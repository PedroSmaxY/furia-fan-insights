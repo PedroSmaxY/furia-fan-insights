{
 "cells": [
  {
   "cell_type": "markdown",
   "id": "04f92b18-3ecf-4085-bff0-a2808d61c36d",
   "metadata": {},
   "source": [
    "## Importação de Bibliotecas"
   ]
  },
  {
   "cell_type": "code",
   "execution_count": 1,
   "id": "f76b1c5f-4836-43f2-bcce-9116ceb3ece5",
   "metadata": {},
   "outputs": [],
   "source": [
    "import ipywidgets as widgets\n",
    "from IPython.display import display, clear_output\n",
    "import cv2\n",
    "import requests\n",
    "from bs4 import BeautifulSoup\n",
    "import io\n",
    "import numpy as np\n",
    "from PIL import Image\n",
    "import face_recognition"
   ]
  },
  {
   "cell_type": "markdown",
   "id": "590f867e-a596-4900-ae2d-88b1eafdf496",
   "metadata": {},
   "source": [
    "## Funções Auxiliares"
   ]
  },
  {
   "cell_type": "markdown",
   "id": "8efc21e4-3450-48a9-b70a-7cf5485bb153",
   "metadata": {},
   "source": [
    "### Função para validar documentos com detecção de rosto"
   ]
  },
  {
   "cell_type": "code",
   "execution_count": 2,
   "id": "82eeed37-edd6-400c-ab0d-87fca32675cd",
   "metadata": {},
   "outputs": [],
   "source": [
    "def validate_document(file_content):\n",
    "    face_cascade = cv2.CascadeClassifier(cv2.data.haarcascades + 'haarcascade_frontalface_default.xml')\n",
    "    img = Image.open(io.BytesIO(file_content))\n",
    "    img_array = np.array(img)\n",
    "    gray = cv2.cvtColor(img_array, cv2.COLOR_RGB2GRAY)\n",
    "    faces = face_cascade.detectMultiScale(gray, 1.1, 4)\n",
    "    return len(faces) > 0"
   ]
  },
  {
   "cell_type": "markdown",
   "id": "5a0b03b1-9922-4acc-b772-107620e6f8a8",
   "metadata": {},
   "source": [
    "### Função para validar links de perfis"
   ]
  },
  {
   "cell_type": "code",
   "execution_count": 3,
   "id": "cafd353a-ea1f-432e-a63b-0682d9b5f7ed",
   "metadata": {},
   "outputs": [],
   "source": [
    "def validate_profile_link(link, interests):\n",
    "    try:\n",
    "        response = requests.get(link, timeout=5)\n",
    "        soup = BeautifulSoup(response.content, 'html.parser')\n",
    "        text = soup.get_text().lower()\n",
    "        return any(interest.lower() in text for interest in interests.split(','))\n",
    "    except:\n",
    "        return False"
   ]
  },
  {
   "cell_type": "markdown",
   "id": "c1d15f30-b8fc-4523-b411-55c752db66b8",
   "metadata": {},
   "source": [
    "### Função para comparar a foto do documento com a selfie da pessoa"
   ]
  },
  {
   "cell_type": "code",
   "execution_count": 4,
   "id": "3b169eb6-e9da-4e56-b20f-dd50d84dfa50",
   "metadata": {},
   "outputs": [],
   "source": [
    "def compare_selfie_with_document(selfie_content, document_content, threshold=0.6):\n",
    "    try:\n",
    "        selfie_img = face_recognition.load_image_file(io.BytesIO(selfie_content))\n",
    "        document_img = face_recognition.load_image_file(io.BytesIO(document_content))\n",
    "\n",
    "        selfie_face_locations = face_recognition.face_locations(selfie_img)\n",
    "        document_face_locations = face_recognition.face_locations(document_img)\n",
    "\n",
    "        if not selfie_face_locations or not document_face_locations:\n",
    "            return False, 1.0  # Não encontrou faces em uma ou ambas as imagens\n",
    "\n",
    "        # Extrai os encodings (características) das faces\n",
    "        selfie_face_encoding = face_recognition.face_encodings(selfie_img, selfie_face_locations)[0]\n",
    "        document_face_encoding = face_recognition.face_encodings(document_img, document_face_locations)[0]\n",
    "\n",
    "        # Calcula a distância entre as faces (menor valor = mais similar)\n",
    "        face_distance = face_recognition.face_distance([selfie_face_encoding], document_face_encoding)[0]\n",
    "\n",
    "        # Compara se a distância é menor que o limiar\n",
    "        match = face_distance <= threshold\n",
    "\n",
    "        return match, face_distance\n",
    "    except Exception as e:\n",
    "        print(f\"Erro ao comparar faces: {e}\")\n",
    "        return False, 1.0"
   ]
  },
  {
   "cell_type": "markdown",
   "id": "138bd5cc-4228-4e73-95d1-16f3d527c09f",
   "metadata": {},
   "source": [
    "## Seções do formulário: "
   ]
  },
  {
   "cell_type": "markdown",
   "id": "f4e7cc31-319a-4bc6-b916-a86da97169d9",
   "metadata": {},
   "source": [
    "### Seção 1: Dados Pessoais"
   ]
  },
  {
   "cell_type": "code",
   "execution_count": 5,
   "id": "e1ce0312-7195-45d9-b216-6b9afa63acc7",
   "metadata": {},
   "outputs": [
    {
     "data": {
      "application/vnd.jupyter.widget-view+json": {
       "model_id": "fb88b703a2ae48c0b1d424c3afd73417",
       "version_major": 2,
       "version_minor": 0
      },
      "text/plain": [
       "Text(value='', description='Nome:')"
      ]
     },
     "metadata": {},
     "output_type": "display_data"
    },
    {
     "data": {
      "application/vnd.jupyter.widget-view+json": {
       "model_id": "9f553733eb66449c8c242c56f7f2c4cd",
       "version_major": 2,
       "version_minor": 0
      },
      "text/plain": [
       "Text(value='', description='Endereço:')"
      ]
     },
     "metadata": {},
     "output_type": "display_data"
    },
    {
     "data": {
      "application/vnd.jupyter.widget-view+json": {
       "model_id": "d15e9d2a888f4f93a0cba83dfdda33c7",
       "version_major": 2,
       "version_minor": 0
      },
      "text/plain": [
       "Text(value='', description='CPF:')"
      ]
     },
     "metadata": {},
     "output_type": "display_data"
    }
   ],
   "source": [
    "name_input = widgets.Text(description=\"Nome:\")\n",
    "address_input = widgets.Text(description=\"Endereço:\")\n",
    "cpf_input = widgets.Text(description=\"CPF:\")\n",
    "display(name_input, address_input, cpf_input)"
   ]
  },
  {
   "cell_type": "markdown",
   "id": "88edd4bd-cc3e-4a06-a0f7-56ee978b686b",
   "metadata": {},
   "source": [
    "### Seção 2: Interesses"
   ]
  },
  {
   "cell_type": "code",
   "execution_count": 6,
   "id": "e44fadde-3b25-4d04-861d-b1aa19c4d08a",
   "metadata": {},
   "outputs": [
    {
     "data": {
      "application/vnd.jupyter.widget-view+json": {
       "model_id": "f4ab688a93954deb8887ab661ed9d75b",
       "version_major": 2,
       "version_minor": 0
      },
      "text/plain": [
       "Textarea(value='', description='Interesses (ex: jogos, times):', rows=3)"
      ]
     },
     "metadata": {},
     "output_type": "display_data"
    }
   ],
   "source": [
    "interests_input = widgets.Textarea(description=\"Interesses (ex: jogos, times):\", rows=3)\n",
    "display(interests_input)"
   ]
  },
  {
   "cell_type": "markdown",
   "id": "31e2dc26-e2f8-4fbe-9ee6-76d3a02f356c",
   "metadata": {},
   "source": [
    "### Seção 3: Upload de Documento"
   ]
  },
  {
   "cell_type": "code",
   "execution_count": 13,
   "id": "f1bdf866-c361-4d89-a098-0abc913e646f",
   "metadata": {},
   "outputs": [
    {
     "data": {
      "application/vnd.jupyter.widget-view+json": {
       "model_id": "306cfe873d9a4fa99b73e3100e13cc8d",
       "version_major": 2,
       "version_minor": 0
      },
      "text/plain": [
       "FileUpload(value=(), accept='.jpg,.jpeg,.png,.pdf,.bmp', description='Upload de Documento')"
      ]
     },
     "metadata": {},
     "output_type": "display_data"
    },
    {
     "data": {
      "application/vnd.jupyter.widget-view+json": {
       "model_id": "1db32f0b106d4f94bdd43db0089d7622",
       "version_major": 2,
       "version_minor": 0
      },
      "text/plain": [
       "Output()"
      ]
     },
     "metadata": {},
     "output_type": "display_data"
    }
   ],
   "source": [
    "### Seção 3: Upload de Documento\n",
    "\n",
    "doc_upload = widgets.FileUpload(\n",
    "    description=\"Upload de Documento\", \n",
    "    accept=\".jpg,.jpeg,.png,.pdf,.bmp\",  # Aceita mais formatos\n",
    "    multiple=False  # Permite apenas um arquivo\n",
    ")\n",
    "doc_output = widgets.Output()\n",
    "display(doc_upload, doc_output)\n",
    "\n",
    "# Variável para armazenar o conteúdo do documento\n",
    "document_content = None\n",
    "\n",
    "def on_doc_upload_change(change):\n",
    "    global document_content\n",
    "    with doc_output:\n",
    "        clear_output()\n",
    "        if doc_upload.value:\n",
    "            try:\n",
    "                # Tenta extrair o conteúdo do arquivo\n",
    "                if isinstance(doc_upload.value, tuple) and len(doc_upload.value) > 0:\n",
    "                    # Se for uma tupla, vamos tentar acessar o conteúdo diretamente do objeto\n",
    "                    if hasattr(doc_upload.value[0], 'content'):\n",
    "                        file_content = doc_upload.value[0].content  # Acessa o atributo content\n",
    "                    elif hasattr(doc_upload.value[0], '_data'):\n",
    "                        file_content = doc_upload.value[0]._data  # Tenta acessar _data\n",
    "                    elif hasattr(doc_upload.value[0], 'data'):\n",
    "                        file_content = doc_upload.value[0].data  # Tenta acessar data\n",
    "                    elif hasattr(doc_upload.value[0], 'value'):\n",
    "                        file_content = doc_upload.value[0].value  # Tenta acessar value\n",
    "                    else:\n",
    "                        # Último recurso: tentativa de conversão direta\n",
    "                        print(\"Tentando conversão direta do objeto para bytes...\")\n",
    "                        file_content = bytes(doc_upload.value[0])\n",
    "                else:\n",
    "                    print(\"Formato de upload não reconhecido.\")\n",
    "                    return\n",
    "                \n",
    "                document_content = file_content\n",
    "                \n",
    "                # Mostra informações sobre o arquivo\n",
    "                print(f\"Documento carregado! Tamanho: {len(file_content) / 1024:.1f} KB\")\n",
    "                \n",
    "                if validate_document(file_content):\n",
    "                    print(\"Validando documento com IA... Face detectada com sucesso!\")\n",
    "                else:\n",
    "                    print(\"Validando documento com IA... Aviso: Nenhum rosto foi detectado.\")\n",
    "                    print(\"Você ainda pode prosseguir, mas a verificação pode não funcionar corretamente.\")\n",
    "            except Exception as e:\n",
    "                print(f\"Erro ao processar arquivo: {e}\")\n",
    "                print(f\"Tipo do objeto: {type(doc_upload.value)}\")\n",
    "                if isinstance(doc_upload.value, tuple) and len(doc_upload.value) > 0:\n",
    "                    print(f\"Tipo do primeiro elemento: {type(doc_upload.value[0])}\")\n",
    "                    print(f\"Atributos disponíveis: {dir(doc_upload.value[0])}\")\n",
    "                document_content = None\n",
    "\n",
    "doc_upload.observe(on_doc_upload_change, names='value')"
   ]
  },
  {
   "cell_type": "markdown",
   "id": "75990bb7-73a2-4b00-8d76-727540fb517d",
   "metadata": {},
   "source": [
    "### Seção 4: Redes Sociais"
   ]
  },
  {
   "cell_type": "code",
   "execution_count": 8,
   "id": "8f364116-43ca-4baa-8c19-3e95959e49b9",
   "metadata": {},
   "outputs": [
    {
     "data": {
      "application/vnd.jupyter.widget-view+json": {
       "model_id": "8e9a09625c12431e8801754a0249e8b6",
       "version_major": 2,
       "version_minor": 0
      },
      "text/plain": [
       "Text(value='', description='Redes Sociais (ex: @usuario):')"
      ]
     },
     "metadata": {},
     "output_type": "display_data"
    },
    {
     "data": {
      "application/vnd.jupyter.widget-view+json": {
       "model_id": "eab72c4ff9b24beeab3459eeddec66d6",
       "version_major": 2,
       "version_minor": 0
      },
      "text/plain": [
       "Output()"
      ]
     },
     "metadata": {},
     "output_type": "display_data"
    }
   ],
   "source": [
    "social_input = widgets.Text(description=\"Redes Sociais (ex: @usuario):\")\n",
    "social_output = widgets.Output()\n",
    "display(social_input, social_output)\n",
    "\n",
    "def on_social_change(change):\n",
    "    with social_output:\n",
    "        clear_output()\n",
    "        if social_input.value:\n",
    "            print(f\"Simulando leitura de interações... Encontradas 50 interações relacionadas a esports.\")\n",
    "social_input.observe(on_social_change, names='value')"
   ]
  },
  {
   "cell_type": "markdown",
   "id": "09072f0e-7192-40ea-b268-39a8a40d4644",
   "metadata": {},
   "source": [
    "### Seção 5: Links de Perfis"
   ]
  },
  {
   "cell_type": "code",
   "execution_count": 9,
   "id": "e6934d79-b2cf-416b-ac85-98af97d5091c",
   "metadata": {},
   "outputs": [
    {
     "data": {
      "application/vnd.jupyter.widget-view+json": {
       "model_id": "3bd80143e13c43a29fece8d4862a6dc1",
       "version_major": 2,
       "version_minor": 0
      },
      "text/plain": [
       "Text(value='', description='Link de Perfil:')"
      ]
     },
     "metadata": {},
     "output_type": "display_data"
    },
    {
     "data": {
      "application/vnd.jupyter.widget-view+json": {
       "model_id": "ab734538c81c45dc82a370bec0ac92b8",
       "version_major": 2,
       "version_minor": 0
      },
      "text/plain": [
       "Output()"
      ]
     },
     "metadata": {},
     "output_type": "display_data"
    }
   ],
   "source": [
    "profile_link_input = widgets.Text(description=\"Link de Perfil:\")\n",
    "profile_output = widgets.Output()\n",
    "display(profile_link_input, profile_output)\n",
    "\n",
    "def on_link_change(change):\n",
    "    with profile_output:\n",
    "        clear_output()\n",
    "        if profile_link_input.value and validate_profile_link(profile_link_input.value, interests_input.value):\n",
    "            print(\"Validando conteúdo com IA... Conteúdo relevante ao perfil!\")\n",
    "        elif profile_link_input.value:\n",
    "            print(\"Validando conteúdo com IA... Conteúdo não relevante ou link inválido.\")\n",
    "profile_link_input.observe(on_link_change, names='value')"
   ]
  },
  {
   "cell_type": "markdown",
   "id": "a7831413-b3ae-4653-9235-3f4627c79af2",
   "metadata": {},
   "source": [
    "### Seção 6: Verificação de Identidade por Selfie"
   ]
  },
  {
   "cell_type": "code",
   "execution_count": 17,
   "id": "1f19717d-6598-4d62-9cd8-162a12271c77",
   "metadata": {},
   "outputs": [
    {
     "data": {
      "application/vnd.jupyter.widget-view+json": {
       "model_id": "9a8cce54a741434ea1da401c503ff20b",
       "version_major": 2,
       "version_minor": 0
      },
      "text/plain": [
       "FileUpload(value=(), accept='.jpg,.jpeg,.png,.bmp', description='Upload de Selfie')"
      ]
     },
     "metadata": {},
     "output_type": "display_data"
    },
    {
     "data": {
      "application/vnd.jupyter.widget-view+json": {
       "model_id": "c1d8b69dc5be47cca0ff68519bfb7cde",
       "version_major": 2,
       "version_minor": 0
      },
      "text/plain": [
       "Output()"
      ]
     },
     "metadata": {},
     "output_type": "display_data"
    },
    {
     "data": {
      "application/vnd.jupyter.widget-view+json": {
       "model_id": "bce39c094c484eaa94d67c16ca347e7b",
       "version_major": 2,
       "version_minor": 0
      },
      "text/plain": [
       "Button(description='Verificar Identidade', style=ButtonStyle())"
      ]
     },
     "metadata": {},
     "output_type": "display_data"
    },
    {
     "data": {
      "application/vnd.jupyter.widget-view+json": {
       "model_id": "10395c00656d41cb91b05503ef7b8a81",
       "version_major": 2,
       "version_minor": 0
      },
      "text/plain": [
       "Output()"
      ]
     },
     "metadata": {},
     "output_type": "display_data"
    }
   ],
   "source": [
    "### Seção 6: Verificação de Identidade por Selfie\n",
    "\n",
    "selfie_upload = widgets.FileUpload(\n",
    "    description=\"Upload de Selfie\", \n",
    "    accept=\".jpg,.jpeg,.png,.bmp\",  # Formatos de imagem\n",
    "    multiple=False  # Permite apenas um arquivo\n",
    ")\n",
    "verify_button = widgets.Button(description=\"Verificar Identidade\")\n",
    "selfie_output = widgets.Output()  # Adicionado para mostrar feedback do upload\n",
    "verify_output = widgets.Output()\n",
    "\n",
    "display(selfie_upload, selfie_output, verify_button, verify_output)  # Adicionei selfie_output ao display\n",
    "\n",
    "# Variável para armazenar o conteúdo da selfie\n",
    "selfie_content = None\n",
    "\n",
    "# Manipulador para o upload de selfie\n",
    "def on_selfie_upload_change(change):\n",
    "    global selfie_content\n",
    "    with selfie_output:  # Use a saída específica para o upload\n",
    "        clear_output()\n",
    "        if selfie_upload.value:\n",
    "            try:\n",
    "                # Tenta extrair o conteúdo do arquivo\n",
    "                if isinstance(selfie_upload.value, tuple) and len(selfie_upload.value) > 0:\n",
    "                    # Se for uma tupla, vamos tentar acessar o conteúdo diretamente do objeto\n",
    "                    if hasattr(selfie_upload.value[0], 'content'):\n",
    "                        file_content = selfie_upload.value[0].content  # Acessa o atributo content\n",
    "                    elif hasattr(selfie_upload.value[0], '_data'):\n",
    "                        file_content = selfie_upload.value[0]._data  # Tenta acessar _data\n",
    "                    elif hasattr(selfie_upload.value[0], 'data'):\n",
    "                        file_content = selfie_upload.value[0].data  # Tenta acessar data\n",
    "                    elif hasattr(selfie_upload.value[0], 'value'):\n",
    "                        file_content = selfie_upload.value[0].value  # Tenta acessar value\n",
    "                    else:\n",
    "                        # Último recurso: tentativa de conversão direta\n",
    "                        print(\"Tentando conversão direta do objeto para bytes...\")\n",
    "                        file_content = bytes(selfie_upload.value[0])\n",
    "                else:\n",
    "                    print(\"Formato de upload não reconhecido.\")\n",
    "                    return\n",
    "                \n",
    "                selfie_content = file_content\n",
    "                print(f\"Selfie carregada! Tamanho: {len(file_content) / 1024:.1f} KB\")\n",
    "            except Exception as e:\n",
    "                print(f\"Erro ao processar selfie: {e}\")\n",
    "                print(f\"Tipo do objeto: {type(selfie_upload.value)}\")\n",
    "                if isinstance(selfie_upload.value, tuple) and len(selfie_upload.value) > 0:\n",
    "                    print(f\"Tipo do primeiro elemento: {type(selfie_upload.value[0])}\")\n",
    "                    print(f\"Atributos disponíveis: {dir(selfie_upload.value[0])}\")\n",
    "                selfie_content = None\n",
    "\n",
    "# Manipulador para o botão de verificação\n",
    "### Adicione este código após a função on_selfie_upload_change\n",
    "\n",
    "# Manipulador para o botão de verificação\n",
    "def on_verify_button_click(b):\n",
    "    with verify_output:\n",
    "        clear_output()\n",
    "        if not document_content:\n",
    "            print(\"Erro: Nenhum documento válido foi carregado!\")\n",
    "            return\n",
    "        \n",
    "        if not selfie_content:\n",
    "            print(\"Erro: Nenhuma selfie foi carregada!\")\n",
    "            return\n",
    "        \n",
    "        print(\"Verificando identidade...\")\n",
    "        print(\"-\" * 50)\n",
    "        \n",
    "        # Verificação com threshold padrão\n",
    "        match, similarity = compare_selfie_with_document(selfie_content, document_content)\n",
    "        confidence = round((1 - similarity) * 100, 2)\n",
    "        \n",
    "        if match:\n",
    "            print(f\"✅ VERIFICAÇÃO CONCLUÍDA: As imagens correspondem à mesma pessoa!\")\n",
    "            print(f\"Nível de confiança: {confidence}%\")\n",
    "            print(\"-\" * 50)\n",
    "            print(\"USUÁRIO VERIFICADO - Acesso liberado aos recursos exclusivos para fãs FURIA\")\n",
    "        else:\n",
    "            print(f\"❌ VERIFICAÇÃO FALHOU: As imagens não correspondem ou houve um erro.\")\n",
    "            print(f\"Nível de confiança: {confidence}%\")\n",
    "            print(\"-\" * 50)\n",
    "            print(\"Recomendações:\")\n",
    "            print(\"- Tente fazer upload de uma selfie com melhor iluminação\")\n",
    "            print(\"- Certifique-se que seu rosto está claramente visível\")\n",
    "            print(\"- Verifique se o documento possui uma foto nítida\")\n",
    "\n",
    "\n",
    "# Registra os manipuladores de eventos\n",
    "selfie_upload.observe(on_selfie_upload_change, names='value')\n",
    "verify_button.on_click(on_verify_button_click)  # Adicione o evento de clique do botão"
   ]
  },
  {
   "cell_type": "markdown",
   "id": "8cc09d24-d6b2-44be-a2a1-0a7bba33c9f8",
   "metadata": {},
   "source": [
    "## Instruções de Uso\n",
    "\n",
    "1. **Dados Pessoais**: Insira seu nome, endereço e CPF nos campos fornecidos.\n",
    "2. **Interesses**: Descreva seus interesses em esports, como jogos favoritos, times (ex: FURIA), eventos e compras relacionadas.\n",
    "3. **Upload de Documento**: Faça upload de uma imagem de um documento de identificação. A IA detectará se há um rosto na imagem.\n",
    "4. **Redes Sociais**: Insira seu perfil de rede social (ex: Twitter, Instagram). A simulação exibirá interações relacionadas a esports.\n",
    "5. **Links de Perfis**: Insira um link para seu perfil em um site de esports. A IA verificará se o conteúdo é relevante com base nos seus interesses."
   ]
  }
 ],
 "metadata": {
  "kernelspec": {
   "display_name": "Python 3 (ipykernel)",
   "language": "python",
   "name": "python3"
  },
  "language_info": {
   "codemirror_mode": {
    "name": "ipython",
    "version": 3
   },
   "file_extension": ".py",
   "mimetype": "text/x-python",
   "name": "python",
   "nbconvert_exporter": "python",
   "pygments_lexer": "ipython3",
   "version": "3.13.2"
  }
 },
 "nbformat": 4,
 "nbformat_minor": 5
}
