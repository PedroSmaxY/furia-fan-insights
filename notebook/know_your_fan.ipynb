{
 "cells": [
  {
   "cell_type": "code",
   "execution_count": 3,
   "id": "ad740bb1-3ec6-418c-8ec3-f30233ecf991",
   "metadata": {},
   "outputs": [
    {
     "data": {
      "text/html": [
       "<h1 style=\"color:#BD052D\">FURIA Fan Insights</h1>"
      ],
      "text/plain": [
       "<IPython.core.display.HTML object>"
      ]
     },
     "metadata": {},
     "output_type": "display_data"
    },
    {
     "data": {
      "text/html": [
       "<h2>Conhecendo o Fã</h2>"
      ],
      "text/plain": [
       "<IPython.core.display.HTML object>"
      ]
     },
     "metadata": {},
     "output_type": "display_data"
    },
    {
     "data": {
      "text/html": [
       "<h3>Informações Básicas</h3>"
      ],
      "text/plain": [
       "<IPython.core.display.HTML object>"
      ]
     },
     "metadata": {},
     "output_type": "display_data"
    },
    {
     "data": {
      "application/vnd.jupyter.widget-view+json": {
       "model_id": "3230f55346934d53a2859d6cc598a01e",
       "version_major": 2,
       "version_minor": 0
      },
      "text/plain": [
       "Text(value='', description='Nome:', style=TextStyle(description_width='120px'))"
      ]
     },
     "metadata": {},
     "output_type": "display_data"
    },
    {
     "data": {
      "application/vnd.jupyter.widget-view+json": {
       "model_id": "3be0011fdb694b479454587be18655e6",
       "version_major": 2,
       "version_minor": 0
      },
      "text/plain": [
       "Text(value='', description='Email:', style=TextStyle(description_width='120px'))"
      ]
     },
     "metadata": {},
     "output_type": "display_data"
    },
    {
     "data": {
      "application/vnd.jupyter.widget-view+json": {
       "model_id": "93c46320acd4483bb7081590fd59c03a",
       "version_major": 2,
       "version_minor": 0
      },
      "text/plain": [
       "Text(value='', description='CPF:', style=TextStyle(description_width='120px'))"
      ]
     },
     "metadata": {},
     "output_type": "display_data"
    },
    {
     "data": {
      "application/vnd.jupyter.widget-view+json": {
       "model_id": "5d80addcf6da48c1b4defb77b3bddb73",
       "version_major": 2,
       "version_minor": 0
      },
      "text/plain": [
       "DatePicker(value=None, description='Data de Nascimento:', step=1, style=DescriptionStyle(description_width='12…"
      ]
     },
     "metadata": {},
     "output_type": "display_data"
    },
    {
     "data": {
      "application/vnd.jupyter.widget-view+json": {
       "model_id": "3aa08c1d96204337975d2aecb01e84ce",
       "version_major": 2,
       "version_minor": 0
      },
      "text/plain": [
       "Text(value='', description='Cidade:', style=TextStyle(description_width='120px'))"
      ]
     },
     "metadata": {},
     "output_type": "display_data"
    },
    {
     "data": {
      "application/vnd.jupyter.widget-view+json": {
       "model_id": "21e80ff73c81467fadd1fb4f5b370c77",
       "version_major": 2,
       "version_minor": 0
      },
      "text/plain": [
       "Dropdown(description='Estado:', options=('AC', 'AL', 'AP', 'AM', 'BA', 'CE', 'DF', 'ES', 'GO', 'MA', 'MT', 'MS…"
      ]
     },
     "metadata": {},
     "output_type": "display_data"
    }
   ],
   "source": [
    "import ipywidgets as widgets\n",
    "from IPython.display import display, HTML\n",
    "import pandas as pd\n",
    "import os\n",
    "import json\n",
    "\n",
    "display(HTML('<h1 style=\"color:#BD052D\">FURIA Fan Insights</h1>'))\n",
    "display(HTML('<h2>Conhecendo o Fã</h2>'))\n",
    "\n",
    "display(HTML('<h3>Informações Básicas</h3>'))\n",
    "\n",
    "name = widgets.Text(description=\"Nome:\", style={'description_width': '120px'})\n",
    "email = widgets.Text(description=\"Email:\", style={'description_width': '120px'})\n",
    "cpf = widgets.Text(description=\"CPF:\", style={'description_width': '120px'})\n",
    "birth_date = widgets.DatePicker(description=\"Data de Nascimento:\", style={'description_width': '120px'})\n",
    "city = widgets.Text(description=\"Cidade:\", style={'description_width': '120px'})\n",
    "state = widgets.Dropdown(\n",
    "    options=[\n",
    "        'AC', 'AL', 'AP', 'AM', 'BA', 'CE', 'DF', 'ES', 'GO', 'MA',\n",
    "        'MT', 'MS', 'MG', 'PA', 'PB', 'PR', 'PE', 'PI', 'RJ', 'RN',\n",
    "        'RS', 'RO', 'RR', 'SC', 'SP', 'SE', 'TO'\n",
    "    ],\n",
    "    description='Estado:',\n",
    "    style={'description_width': '120px'}\n",
    ")\n",
    "\n",
    "display(name, email, cpf, birth_date, city, state)"
   ]
  },
  {
   "cell_type": "code",
   "execution_count": 4,
   "id": "99f62d27-5188-4122-8ee4-24bcb8c4ca99",
   "metadata": {
    "editable": true,
    "slideshow": {
     "slide_type": ""
    },
    "tags": []
   },
   "outputs": [
    {
     "data": {
      "text/html": [
       "<h3>Interesses em E-sports</h3>"
      ],
      "text/plain": [
       "<IPython.core.display.HTML object>"
      ]
     },
     "metadata": {},
     "output_type": "display_data"
    },
    {
     "data": {
      "application/vnd.jupyter.widget-view+json": {
       "model_id": "a1fc08018e1b44b1b334efe1351557c6",
       "version_major": 2,
       "version_minor": 0
      },
      "text/plain": [
       "SelectMultiple(description='Jogos:', options=('CS:GO', 'CS2', 'League of Legends', 'Valorant', 'Rainbow Six', …"
      ]
     },
     "metadata": {},
     "output_type": "display_data"
    },
    {
     "data": {
      "application/vnd.jupyter.widget-view+json": {
       "model_id": "0d295284b47f4b41bb3fee95c00db1bb",
       "version_major": 2,
       "version_minor": 0
      },
      "text/plain": [
       "SelectMultiple(description='Times FURIA:', options=('CS:GO/CS2', 'League of Legends', 'Valorant', 'Apex Legend…"
      ]
     },
     "metadata": {},
     "output_type": "display_data"
    },
    {
     "data": {
      "application/vnd.jupyter.widget-view+json": {
       "model_id": "f15591bb37fa4b36b9a66f4d94971dc6",
       "version_major": 2,
       "version_minor": 0
      },
      "text/plain": [
       "SelectMultiple(description='Atividades:', options=('Assisto transmissões online', 'Vou a eventos presenciais',…"
      ]
     },
     "metadata": {},
     "output_type": "display_data"
    },
    {
     "data": {
      "application/vnd.jupyter.widget-view+json": {
       "model_id": "ba0d81ac90b44ee199bd2ac94626ee52",
       "version_major": 2,
       "version_minor": 0
      },
      "text/plain": [
       "Text(value='', description='Eventos (último ano):', placeholder='Ex: IEM Rio Major, BLAST Premier, etc.', styl…"
      ]
     },
     "metadata": {},
     "output_type": "display_data"
    },
    {
     "data": {
      "application/vnd.jupyter.widget-view+json": {
       "model_id": "2a32c7ecdda440119f950bef10da69a7",
       "version_major": 2,
       "version_minor": 0
      },
      "text/plain": [
       "SelectMultiple(description='Produtos FURIA:', options=('Camisetas', 'Moletons', 'Bonés', 'Mousepad', 'Cadeira …"
      ]
     },
     "metadata": {},
     "output_type": "display_data"
    }
   ],
   "source": [
    "display(HTML('<h3>Interesses em E-sports</h3>'))\n",
    "\n",
    "games = widgets.SelectMultiple(\n",
    "    options=['CS:GO', 'CS2', 'League of Legends', 'Valorant', 'Rainbow Six', 'Dota 2', 'Fortnite', 'Apex Legends', 'PUBG', 'Overwatch', 'Rocket League', 'FIFA'],\n",
    "    description='Jogos:',\n",
    "    rows=6,\n",
    "    style={'description_width': '120px'}\n",
    ")\n",
    "\n",
    "furia_teams = widgets.SelectMultiple(\n",
    "    options=['CS:GO/CS2', 'League of Legends', 'Valorant', 'Apex Legends', 'Rainbow Six', 'Rocket League', 'PUBG'],\n",
    "    description='Times FURIA:',\n",
    "    rows=5,\n",
    "    style={'description_width': '120px'}\n",
    ")\n",
    "\n",
    "fan_activities = widgets.SelectMultiple(\n",
    "    options=['Assisto transmissões online', 'Vou a eventos presenciais', 'Compro produtos oficiais', \n",
    "             'Participo de comunidades online', 'Sigo jogadores nas redes sociais', 'Jogo os mesmos jogos'],\n",
    "    description='Atividades:',\n",
    "    rows=4,\n",
    "    style={'description_width': '120px'}\n",
    ")\n",
    "\n",
    "events_attended = widgets.Text(\n",
    "    description='Eventos (último ano):',\n",
    "    placeholder='Ex: IEM Rio Major, BLAST Premier, etc.',\n",
    "    style={'description_width': '120px'}\n",
    ")\n",
    "\n",
    "products = widgets.SelectMultiple(\n",
    "    options=['Camisetas', 'Moletons', 'Bonés', 'Mousepad', 'Cadeira Gamer', 'Periféricos', 'Outros'],\n",
    "    description='Produtos FURIA:',\n",
    "    rows=4,\n",
    "    style={'description_width': '120px'}\n",
    ")\n",
    "\n",
    "display(games, furia_teams, fan_activities, events_attended, products)"
   ]
  },
  {
   "cell_type": "code",
   "execution_count": 5,
   "id": "de16edb4",
   "metadata": {},
   "outputs": [
    {
     "data": {
      "text/html": [
       "<h3>Redes Sociais</h3>"
      ],
      "text/plain": [
       "<IPython.core.display.HTML object>"
      ]
     },
     "metadata": {},
     "output_type": "display_data"
    },
    {
     "data": {
      "application/vnd.jupyter.widget-view+json": {
       "model_id": "7f0f2007ffb146988e86d2f7bdba3c89",
       "version_major": 2,
       "version_minor": 0
      },
      "text/plain": [
       "Text(value='', description='Twitter/X:', placeholder='@username', style=TextStyle(description_width='120px'))"
      ]
     },
     "metadata": {},
     "output_type": "display_data"
    },
    {
     "data": {
      "application/vnd.jupyter.widget-view+json": {
       "model_id": "47ed8fcf1bed416c9a209bddd44918dd",
       "version_major": 2,
       "version_minor": 0
      },
      "text/plain": [
       "Text(value='', description='Instagram:', placeholder='@username', style=TextStyle(description_width='120px'))"
      ]
     },
     "metadata": {},
     "output_type": "display_data"
    },
    {
     "data": {
      "application/vnd.jupyter.widget-view+json": {
       "model_id": "4ab055a1c1634126b53b1d9407d492f3",
       "version_major": 2,
       "version_minor": 0
      },
      "text/plain": [
       "Text(value='', description='Facebook:', placeholder='URL do perfil', style=TextStyle(description_width='120px'…"
      ]
     },
     "metadata": {},
     "output_type": "display_data"
    },
    {
     "data": {
      "application/vnd.jupyter.widget-view+json": {
       "model_id": "cb173834f3e74888b7b80b2a9687346d",
       "version_major": 2,
       "version_minor": 0
      },
      "text/plain": [
       "Text(value='', description='Twitch:', placeholder='username', style=TextStyle(description_width='120px'))"
      ]
     },
     "metadata": {},
     "output_type": "display_data"
    },
    {
     "data": {
      "application/vnd.jupyter.widget-view+json": {
       "model_id": "77b73364b1af400b88ced783d881f035",
       "version_major": 2,
       "version_minor": 0
      },
      "text/plain": [
       "Text(value='', description='YouTube:', placeholder='URL do canal', style=TextStyle(description_width='120px'))"
      ]
     },
     "metadata": {},
     "output_type": "display_data"
    },
    {
     "data": {
      "application/vnd.jupyter.widget-view+json": {
       "model_id": "9d46264875524481b4b49dcc3fd0edb2",
       "version_major": 2,
       "version_minor": 0
      },
      "text/plain": [
       "Text(value='', description='Discord:', placeholder='username#0000', style=TextStyle(description_width='120px')…"
      ]
     },
     "metadata": {},
     "output_type": "display_data"
    },
    {
     "data": {
      "application/vnd.jupyter.widget-view+json": {
       "model_id": "588a023fdfba4fed967e469b8f70faa5",
       "version_major": 2,
       "version_minor": 0
      },
      "text/plain": [
       "Text(value='', description='FACEIT:', placeholder='username ou URL', style=TextStyle(description_width='120px'…"
      ]
     },
     "metadata": {},
     "output_type": "display_data"
    },
    {
     "data": {
      "application/vnd.jupyter.widget-view+json": {
       "model_id": "6a428881b1404d7d82147dbb10a05eab",
       "version_major": 2,
       "version_minor": 0
      },
      "text/plain": [
       "Text(value='', description='GamersClub:', placeholder='username ou URL', style=TextStyle(description_width='12…"
      ]
     },
     "metadata": {},
     "output_type": "display_data"
    },
    {
     "data": {
      "application/vnd.jupyter.widget-view+json": {
       "model_id": "4e5f0abf7e474ebfad8cd779ab330736",
       "version_major": 2,
       "version_minor": 0
      },
      "text/plain": [
       "Text(value='', description='ESEA:', placeholder='username ou URL', style=TextStyle(description_width='120px'))"
      ]
     },
     "metadata": {},
     "output_type": "display_data"
    }
   ],
   "source": [
    "# Seção de redes sociais\n",
    "display(HTML('<h3>Redes Sociais</h3>'))\n",
    "\n",
    "# Perfis de redes sociais\n",
    "twitter = widgets.Text(description='Twitter/X:', placeholder='@username', style={'description_width': '120px'})\n",
    "instagram = widgets.Text(description='Instagram:', placeholder='@username', style={'description_width': '120px'})\n",
    "facebook = widgets.Text(description='Facebook:', placeholder='URL do perfil', style={'description_width': '120px'})\n",
    "twitch = widgets.Text(description='Twitch:', placeholder='username', style={'description_width': '120px'})\n",
    "youtube = widgets.Text(description='YouTube:', placeholder='URL do canal', style={'description_width': '120px'})\n",
    "discord = widgets.Text(description='Discord:', placeholder='username#0000', style={'description_width': '120px'})\n",
    "\n",
    "# Plataformas de e-sports\n",
    "faceit = widgets.Text(description='FACEIT:', placeholder='username ou URL', style={'description_width': '120px'})\n",
    "gamersclub = widgets.Text(description='GamersClub:', placeholder='username ou URL', style={'description_width': '120px'})\n",
    "esea = widgets.Text(description='ESEA:', placeholder='username ou URL', style={'description_width': '120px'})\n",
    "\n",
    "# Exibir widgets de redes sociais\n",
    "display(twitter, instagram, facebook, twitch, youtube, discord)\n",
    "display(faceit, gamersclub, esea)"
   ]
  },
  {
   "cell_type": "code",
   "execution_count": 6,
   "id": "bfdde2ee",
   "metadata": {},
   "outputs": [
    {
     "data": {
      "text/html": [
       "<h3>Upload de Documento e Finalização</h3>"
      ],
      "text/plain": [
       "<IPython.core.display.HTML object>"
      ]
     },
     "metadata": {},
     "output_type": "display_data"
    },
    {
     "data": {
      "application/vnd.jupyter.widget-view+json": {
       "model_id": "84caad29b310480d85082c62ab70f5e4",
       "version_major": 2,
       "version_minor": 0
      },
      "text/plain": [
       "FileUpload(value=(), accept='.jpg,.jpeg,.png,.pdf', description='Upload ID:')"
      ]
     },
     "metadata": {},
     "output_type": "display_data"
    },
    {
     "data": {
      "application/vnd.jupyter.widget-view+json": {
       "model_id": "b7c98928828f4f7f82faeb3285b316f3",
       "version_major": 2,
       "version_minor": 0
      },
      "text/plain": [
       "Textarea(value='', description='Comentários:', layout=Layout(height='100px', width='80%'), placeholder='Conte-…"
      ]
     },
     "metadata": {},
     "output_type": "display_data"
    },
    {
     "data": {
      "application/vnd.jupyter.widget-view+json": {
       "model_id": "63d8e7f4e499460586ef5353754997ea",
       "version_major": 2,
       "version_minor": 0
      },
      "text/plain": [
       "Button(button_style='success', description='Enviar Informações', icon='check', style=ButtonStyle())"
      ]
     },
     "metadata": {},
     "output_type": "display_data"
    },
    {
     "data": {
      "application/vnd.jupyter.widget-view+json": {
       "model_id": "f32c1b65d8864acc8d16c1d265a439e2",
       "version_major": 2,
       "version_minor": 0
      },
      "text/plain": [
       "Output()"
      ]
     },
     "metadata": {},
     "output_type": "display_data"
    }
   ],
   "source": [
    "# Upload de documento e finalização\n",
    "display(HTML('<h3>Upload de Documento e Finalização</h3>'))\n",
    "\n",
    "# Upload de documento (simulado)\n",
    "file_upload = widgets.FileUpload(\n",
    "    accept='.jpg,.jpeg,.png,.pdf',\n",
    "    multiple=False,\n",
    "    description='Upload ID:',\n",
    "    style={'description_width': '120px'}\n",
    ")\n",
    "display(file_upload)\n",
    "\n",
    "# Comentários adicionais\n",
    "comments = widgets.Textarea(\n",
    "    placeholder='Conte-nos mais sobre sua experiência como fã da FURIA...',\n",
    "    description='Comentários:',\n",
    "    style={'description_width': '120px'},\n",
    "    layout=widgets.Layout(width='80%', height='100px')\n",
    ")\n",
    "display(comments)\n",
    "\n",
    "# Botão de envio\n",
    "submit_button = widgets.Button(\n",
    "    description='Enviar Informações',\n",
    "    button_style='success',\n",
    "    icon='check'\n",
    ")\n",
    "\n",
    "output = widgets.Output()\n",
    "\n",
    "def save_data(b):\n",
    "    with output:\n",
    "        # Criar um diretório de dados se não existir\n",
    "        os.makedirs('data', exist_ok=True)\n",
    "        \n",
    "        # Coletar dados de todos os widgets\n",
    "        fan_data = {\n",
    "            'basic_info': {\n",
    "                'name': name.value,\n",
    "                'email': email.value,\n",
    "                'cpf': cpf.value,\n",
    "                'birth_date': str(birth_date.value) if birth_date.value else '',\n",
    "                'city': city.value,\n",
    "                'state': state.value\n",
    "            },\n",
    "            'esports_interests': {\n",
    "                'games': list(games.value),\n",
    "                'furia_teams': list(furia_teams.value),\n",
    "                'fan_activities': list(fan_activities.value),\n",
    "                'events_attended': events_attended.value,\n",
    "                'products': list(products.value)\n",
    "            },\n",
    "            'social_media': {\n",
    "                'twitter': twitter.value,\n",
    "                'instagram': instagram.value,\n",
    "                'facebook': facebook.value,\n",
    "                'twitch': twitch.value,\n",
    "                'youtube': youtube.value,\n",
    "                'discord': discord.value,\n",
    "                'faceit': faceit.value,\n",
    "                'gamersclub': gamersclub.value,\n",
    "                'esea': esea.value\n",
    "            },\n",
    "            'comments': comments.value\n",
    "        }\n",
    "        \n",
    "        # Lidar com o upload de documento (se houver)\n",
    "        if file_upload.value:\n",
    "            # Obter o primeiro arquivo carregado\n",
    "            uploaded_file = next(iter(file_upload.value.values()))\n",
    "            filename = uploaded_file['metadata']['name']\n",
    "            content = uploaded_file['content']\n",
    "            \n",
    "            # Salvar o arquivo\n",
    "            with open(f'data/{filename}', 'wb') as f:\n",
    "                f.write(content)\n",
    "            fan_data['document'] = f'data/{filename}'\n",
    "        \n",
    "        # Salvar os dados em um arquivo JSON\n",
    "        with open('data/fan_profile.json', 'w') as f:\n",
    "            json.dump(fan_data, f, indent=4)\n",
    "        \n",
    "        print(\"✅ Dados salvos com sucesso em 'data/fan_profile.json'!\")\n",
    "        print(\"✅ Obrigado por compartilhar suas informações como fã da FURIA!\")\n",
    "        \n",
    "        # Visualização básica dos dados coletados\n",
    "        print(\"\\n📊 Resumo dos dados coletados:\")\n",
    "        print(f\"Nome: {fan_data['basic_info']['name']}\")\n",
    "        if fan_data['esports_interests']['furia_teams']:\n",
    "            print(f\"Times FURIA seguidos: {', '.join(fan_data['esports_interests']['furia_teams'])}\")\n",
    "        if fan_data['esports_interests']['games']:\n",
    "            print(f\"Jogos de interesse: {', '.join(fan_data['esports_interests']['games'])}\")\n",
    "        if fan_data['esports_interests']['products']:\n",
    "            print(f\"Produtos FURIA: {', '.join(fan_data['esports_interests']['products'])}\")\n",
    "\n",
    "# Anexar o manipulador de eventos ao botão\n",
    "submit_button.on_click(save_data)\n",
    "\n",
    "# Exibir o botão e saída\n",
    "display(submit_button, output)"
   ]
  },
  {
   "cell_type": "code",
   "execution_count": 7,
   "id": "3535b43a",
   "metadata": {},
   "outputs": [
    {
     "data": {
      "text/html": [
       "<h3>Análise do Perfil de Fã</h3>"
      ],
      "text/plain": [
       "<IPython.core.display.HTML object>"
      ]
     },
     "metadata": {},
     "output_type": "display_data"
    },
    {
     "data": {
      "application/vnd.jupyter.widget-view+json": {
       "model_id": "7eb3b96ff1b647b5b5dff74d651460d5",
       "version_major": 2,
       "version_minor": 0
      },
      "text/plain": [
       "Button(button_style='info', description='Analisar Perfil', icon='search', style=ButtonStyle())"
      ]
     },
     "metadata": {},
     "output_type": "display_data"
    },
    {
     "data": {
      "application/vnd.jupyter.widget-view+json": {
       "model_id": "42998a50962f47dda7bc597720a91e12",
       "version_major": 2,
       "version_minor": 0
      },
      "text/plain": [
       "Output()"
      ]
     },
     "metadata": {},
     "output_type": "display_data"
    }
   ],
   "source": [
    "# Simulação de análise de dados com IA\n",
    "display(HTML('<h3>Análise do Perfil de Fã</h3>'))\n",
    "\n",
    "def analyze_fan_profile(b):\n",
    "    try:\n",
    "        with open('data/fan_profile.json', 'r') as f:\n",
    "            data = json.load(f)\n",
    "        \n",
    "        with viz_output:\n",
    "            viz_output.clear_output()\n",
    "            \n",
    "            # Simular análise de perfil com IA\n",
    "            print(\"🔍 Analisando perfil de fã...\")\n",
    "            import time\n",
    "            time.sleep(1.5)\n",
    "            \n",
    "            print(\"\\n✅ Validação de identidade concluída\")\n",
    "            print(\"✅ Perfil de redes sociais analisado\")\n",
    "            print(\"✅ Perfil de plataformas de e-sports validado\")\n",
    "            \n",
    "            print(\"\\n📊 Insights do Fã:\")\n",
    "            print(f\"👤 {data['basic_info']['name']} de {data['basic_info']['city']}-{data['basic_info']['state']}\")\n",
    "            \n",
    "            if data['esports_interests']['furia_teams']:\n",
    "                primary_team = list(data['esports_interests']['furia_teams'])[0]\n",
    "                print(f\"🎮 Fã principal do time de {primary_team} da FURIA\")\n",
    "            \n",
    "            if data['esports_interests']['games']:\n",
    "                print(f\"🎲 Principais jogos: {', '.join(list(data['esports_interests']['games'])[:3])}\")\n",
    "            \n",
    "            # Gerar recomendações personalizadas\n",
    "            print(\"\\n🎯 Recomendações personalizadas:\")\n",
    "            \n",
    "            if data['esports_interests']['furia_teams'] and 'CS:GO/CS2' in data['esports_interests']['furia_teams']:\n",
    "                print(\"📺 Nova série de conteúdo sobre os bastidores do time de CS da FURIA\")\n",
    "            \n",
    "            if 'Compro produtos oficiais' in data['esports_interests']['fan_activities']:\n",
    "                print(\"🛒 Nova coleção de produtos FURIA disponível com 10% de desconto para fãs registrados\")\n",
    "            \n",
    "            if 'Vou a eventos presenciais' in data['esports_interests']['fan_activities']:\n",
    "                print(\"🎫 Pré-venda exclusiva para o próximo evento da FURIA em São Paulo\")\n",
    "            \n",
    "            print(\"\\n🏆 Seu nível de engajamento: Hardcore Fan\")\n",
    "            \n",
    "            # Criar visualização simples\n",
    "            display(HTML(\"<hr>\"))\n",
    "            display(HTML(\"<h4>Mapa de Interesses</h4>\"))\n",
    "            \n",
    "            # Gerar uma visualização básica com pandas\n",
    "            if data['esports_interests']['games']:\n",
    "                import matplotlib.pyplot as plt\n",
    "                import numpy as np\n",
    "                \n",
    "                # Criar dados para visualização\n",
    "                games = list(data['esports_interests']['games'])\n",
    "                values = np.random.randint(70, 100, len(games))\n",
    "                \n",
    "                fig, ax = plt.subplots(figsize=(10, 6))\n",
    "                bars = ax.bar(games, values, color='#BD052D')\n",
    "                ax.set_title('Nível de Interesse por Jogo')\n",
    "                ax.set_xlabel('Jogos')\n",
    "                ax.set_ylabel('Interesse (0-100)')\n",
    "                ax.set_ylim(0, 100)\n",
    "                \n",
    "                # Adicionar valores nas barras\n",
    "                for bar in bars:\n",
    "                    height = bar.get_height()\n",
    "                    ax.text(bar.get_x() + bar.get_width()/2., height + 1,\n",
    "                            f'{height}%', ha='center', va='bottom')\n",
    "                \n",
    "                plt.xticks(rotation=45, ha='right')\n",
    "                plt.tight_layout()\n",
    "                plt.show()\n",
    "                \n",
    "    except FileNotFoundError:\n",
    "        with viz_output:\n",
    "            viz_output.clear_output()\n",
    "            print(\"⚠️ Nenhum dado encontrado. Por favor, preencha e envie o formulário primeiro.\")\n",
    "\n",
    "analyze_button = widgets.Button(\n",
    "    description='Analisar Perfil',\n",
    "    button_style='info',\n",
    "    icon='search'\n",
    ")\n",
    "\n",
    "viz_output = widgets.Output()\n",
    "\n",
    "analyze_button.on_click(analyze_fan_profile)\n",
    "\n",
    "display(analyze_button, viz_output)"
   ]
  },
  {
   "cell_type": "code",
   "execution_count": null,
   "id": "a88e6424-b426-4882-8bf3-efa9de7102ce",
   "metadata": {},
   "outputs": [],
   "source": []
  }
 ],
 "metadata": {
  "kernelspec": {
   "display_name": "Python 3 (ipykernel)",
   "language": "python",
   "name": "python3"
  },
  "language_info": {
   "codemirror_mode": {
    "name": "ipython",
    "version": 3
   },
   "file_extension": ".py",
   "mimetype": "text/x-python",
   "name": "python",
   "nbconvert_exporter": "python",
   "pygments_lexer": "ipython3",
   "version": "3.13.3"
  }
 },
 "nbformat": 4,
 "nbformat_minor": 5
}
