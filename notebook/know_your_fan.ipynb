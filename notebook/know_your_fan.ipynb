{
 "cells": [
  {
   "cell_type": "markdown",
   "id": "04f92b18-3ecf-4085-bff0-a2808d61c36d",
   "metadata": {},
   "source": [
    "## Importação de Bibliotecas"
   ]
  },
  {
   "cell_type": "code",
   "execution_count": 9,
   "id": "f76b1c5f-4836-43f2-bcce-9116ceb3ece5",
   "metadata": {},
   "outputs": [],
   "source": [
    "import ipywidgets as widgets\n",
    "from IPython.display import display, clear_output\n",
    "import cv2\n",
    "import requests\n",
    "from bs4 import BeautifulSoup\n",
    "import io\n",
    "import numpy as np\n",
    "from PIL import Image"
   ]
  },
  {
   "cell_type": "markdown",
   "id": "590f867e-a596-4900-ae2d-88b1eafdf496",
   "metadata": {},
   "source": [
    "## Funções Auxiliares"
   ]
  },
  {
   "cell_type": "markdown",
   "id": "8efc21e4-3450-48a9-b70a-7cf5485bb153",
   "metadata": {},
   "source": [
    "### Função para validar documentos com detecção de rosto"
   ]
  },
  {
   "cell_type": "code",
   "execution_count": 10,
   "id": "82eeed37-edd6-400c-ab0d-87fca32675cd",
   "metadata": {},
   "outputs": [],
   "source": [
    "def validate_document(file_content):\n",
    "    face_cascade = cv2.CascadeClassifier(cv2.data.haarcascades + 'haarcascade_frontalface_default.xml')\n",
    "    img = Image.open(io.BytesIO(file_content))\n",
    "    img_array = np.array(img)\n",
    "    gray = cv2.cvtColor(img_array, cv2.COLOR_RGB2GRAY)\n",
    "    faces = face_cascade.detectMultiScale(gray, 1.1, 4)\n",
    "    return len(faces) > 0"
   ]
  },
  {
   "cell_type": "markdown",
   "id": "5a0b03b1-9922-4acc-b772-107620e6f8a8",
   "metadata": {},
   "source": [
    "### Função para validar links de perfis"
   ]
  },
  {
   "cell_type": "code",
   "execution_count": 11,
   "id": "cafd353a-ea1f-432e-a63b-0682d9b5f7ed",
   "metadata": {},
   "outputs": [],
   "source": [
    "def validate_profile_link(link, interests):\n",
    "    try:\n",
    "        response = requests.get(link, timeout=5)\n",
    "        soup = BeautifulSoup(response.content, 'html.parser')\n",
    "        text = soup.get_text().lower()\n",
    "        return any(interest.lower() in text for interest in interests.split(','))\n",
    "    except:\n",
    "        return False"
   ]
  },
  {
   "cell_type": "markdown",
   "id": "138bd5cc-4228-4e73-95d1-16f3d527c09f",
   "metadata": {},
   "source": [
    "## Seções do formulário: "
   ]
  },
  {
   "cell_type": "markdown",
   "id": "f4e7cc31-319a-4bc6-b916-a86da97169d9",
   "metadata": {},
   "source": [
    "### Seção 1: Dados Pessoais"
   ]
  },
  {
   "cell_type": "code",
   "execution_count": 12,
   "id": "e1ce0312-7195-45d9-b216-6b9afa63acc7",
   "metadata": {},
   "outputs": [
    {
     "data": {
      "application/vnd.jupyter.widget-view+json": {
       "model_id": "e979a084667e4ffeb8784af4c4d1556a",
       "version_major": 2,
       "version_minor": 0
      },
      "text/plain": [
       "Text(value='', description='Nome:')"
      ]
     },
     "metadata": {},
     "output_type": "display_data"
    },
    {
     "data": {
      "application/vnd.jupyter.widget-view+json": {
       "model_id": "a5c396fbbe1846d687ee5ea8c28751e7",
       "version_major": 2,
       "version_minor": 0
      },
      "text/plain": [
       "Text(value='', description='Endereço:')"
      ]
     },
     "metadata": {},
     "output_type": "display_data"
    },
    {
     "data": {
      "application/vnd.jupyter.widget-view+json": {
       "model_id": "ddd0ccf199294594ba22722266a87c29",
       "version_major": 2,
       "version_minor": 0
      },
      "text/plain": [
       "Text(value='', description='CPF:')"
      ]
     },
     "metadata": {},
     "output_type": "display_data"
    }
   ],
   "source": [
    "name_input = widgets.Text(description=\"Nome:\")\n",
    "address_input = widgets.Text(description=\"Endereço:\")\n",
    "cpf_input = widgets.Text(description=\"CPF:\")\n",
    "display(name_input, address_input, cpf_input)"
   ]
  },
  {
   "cell_type": "markdown",
   "id": "88edd4bd-cc3e-4a06-a0f7-56ee978b686b",
   "metadata": {},
   "source": [
    "### Seção 2: Interesses"
   ]
  },
  {
   "cell_type": "code",
   "execution_count": 13,
   "id": "e44fadde-3b25-4d04-861d-b1aa19c4d08a",
   "metadata": {},
   "outputs": [
    {
     "data": {
      "application/vnd.jupyter.widget-view+json": {
       "model_id": "e5be8ee9da22424d96970192f0305afb",
       "version_major": 2,
       "version_minor": 0
      },
      "text/plain": [
       "Textarea(value='', description='Interesses (ex: jogos, times):', rows=3)"
      ]
     },
     "metadata": {},
     "output_type": "display_data"
    }
   ],
   "source": [
    "interests_input = widgets.Textarea(description=\"Interesses (ex: jogos, times):\", rows=3)\n",
    "display(interests_input)"
   ]
  },
  {
   "cell_type": "markdown",
   "id": "31e2dc26-e2f8-4fbe-9ee6-76d3a02f356c",
   "metadata": {},
   "source": [
    "### Seção 3: Upload de Documento"
   ]
  },
  {
   "cell_type": "code",
   "execution_count": 14,
   "id": "f1bdf866-c361-4d89-a098-0abc913e646f",
   "metadata": {},
   "outputs": [
    {
     "data": {
      "application/vnd.jupyter.widget-view+json": {
       "model_id": "518824aae4314c97b14ddb202de9f22c",
       "version_major": 2,
       "version_minor": 0
      },
      "text/plain": [
       "FileUpload(value=(), accept='image/*', description='Upload de Documento')"
      ]
     },
     "metadata": {},
     "output_type": "display_data"
    },
    {
     "data": {
      "application/vnd.jupyter.widget-view+json": {
       "model_id": "b453092b85bc47dd8551b70483473860",
       "version_major": 2,
       "version_minor": 0
      },
      "text/plain": [
       "Output()"
      ]
     },
     "metadata": {},
     "output_type": "display_data"
    }
   ],
   "source": [
    "doc_upload = widgets.FileUpload(description=\"Upload de Documento\", accept=\"image/*\")\n",
    "doc_output = widgets.Output()\n",
    "display(doc_upload, doc_output)\n",
    "\n",
    "def on_doc_upload_change(change):\n",
    "    with doc_output:\n",
    "        clear_output()\n",
    "        if doc_upload.value:\n",
    "            file_info = list(doc_upload.value.values())[0]\n",
    "            if validate_document(file_info['content']):\n",
    "                print(\"Validando documento com IA... Validação concluída com sucesso!\")\n",
    "            else:\n",
    "                print(\"Validando documento com IA... Nenhum rosto detectado.\")\n",
    "doc_upload.observe(on_doc_upload_change, names='value')"
   ]
  },
  {
   "cell_type": "markdown",
   "id": "75990bb7-73a2-4b00-8d76-727540fb517d",
   "metadata": {},
   "source": [
    "### Seção 4: Redes Sociais"
   ]
  },
  {
   "cell_type": "code",
   "execution_count": 7,
   "id": "8f364116-43ca-4baa-8c19-3e95959e49b9",
   "metadata": {},
   "outputs": [
    {
     "data": {
      "application/vnd.jupyter.widget-view+json": {
       "model_id": "5392f84d23b34068879fe4cfeaeb2cd0",
       "version_major": 2,
       "version_minor": 0
      },
      "text/plain": [
       "Text(value='', description='Redes Sociais (ex: @usuario):')"
      ]
     },
     "metadata": {},
     "output_type": "display_data"
    },
    {
     "data": {
      "application/vnd.jupyter.widget-view+json": {
       "model_id": "169f2ed6493c4ee8b439d252bec87977",
       "version_major": 2,
       "version_minor": 0
      },
      "text/plain": [
       "Output()"
      ]
     },
     "metadata": {},
     "output_type": "display_data"
    }
   ],
   "source": [
    "social_input = widgets.Text(description=\"Redes Sociais (ex: @usuario):\")\n",
    "social_output = widgets.Output()\n",
    "display(social_input, social_output)\n",
    "\n",
    "def on_social_change(change):\n",
    "    with social_output:\n",
    "        clear_output()\n",
    "        if social_input.value:\n",
    "            print(f\"Simulando leitura de interações... Encontradas 50 interações relacionadas a esports.\")\n",
    "social_input.observe(on_social_change, names='value')"
   ]
  },
  {
   "cell_type": "markdown",
   "id": "09072f0e-7192-40ea-b268-39a8a40d4644",
   "metadata": {},
   "source": [
    "### Seção 5: Links de Perfis"
   ]
  },
  {
   "cell_type": "code",
   "execution_count": 8,
   "id": "e6934d79-b2cf-416b-ac85-98af97d5091c",
   "metadata": {},
   "outputs": [
    {
     "data": {
      "application/vnd.jupyter.widget-view+json": {
       "model_id": "f01c67d35791446f951e4bec5e32d63e",
       "version_major": 2,
       "version_minor": 0
      },
      "text/plain": [
       "Text(value='', description='Link de Perfil:')"
      ]
     },
     "metadata": {},
     "output_type": "display_data"
    },
    {
     "data": {
      "application/vnd.jupyter.widget-view+json": {
       "model_id": "190255a10d0c4858b104d50388cb02f2",
       "version_major": 2,
       "version_minor": 0
      },
      "text/plain": [
       "Output()"
      ]
     },
     "metadata": {},
     "output_type": "display_data"
    }
   ],
   "source": [
    "profile_link_input = widgets.Text(description=\"Link de Perfil:\")\n",
    "profile_output = widgets.Output()\n",
    "display(profile_link_input, profile_output)\n",
    "\n",
    "def on_link_change(change):\n",
    "    with profile_output:\n",
    "        clear_output()\n",
    "        if profile_link_input.value and validate_profile_link(profile_link_input.value, interests_input.value):\n",
    "            print(\"Validando conteúdo com IA... Conteúdo relevante ao perfil!\")\n",
    "        elif profile_link_input.value:\n",
    "            print(\"Validando conteúdo com IA... Conteúdo não relevante ou link inválido.\")\n",
    "profile_link_input.observe(on_link_change, names='value')"
   ]
  },
  {
   "cell_type": "markdown",
   "id": "8cc09d24-d6b2-44be-a2a1-0a7bba33c9f8",
   "metadata": {},
   "source": [
    "## Instruções de Uso\n",
    "\n",
    "1. **Dados Pessoais**: Insira seu nome, endereço e CPF nos campos fornecidos.\n",
    "2. **Interesses**: Descreva seus interesses em esports, como jogos favoritos, times (ex: FURIA), eventos e compras relacionadas.\n",
    "3. **Upload de Documento**: Faça upload de uma imagem de um documento de identificação. A IA detectará se há um rosto na imagem.\n",
    "4. **Redes Sociais**: Insira seu perfil de rede social (ex: Twitter, Instagram). A simulação exibirá interações relacionadas a esports.\n",
    "5. **Links de Perfis**: Insira um link para seu perfil em um site de esports. A IA verificará se o conteúdo é relevante com base nos seus interesses."
   ]
  }
 ],
 "metadata": {
  "kernelspec": {
   "display_name": ".venv",
   "language": "python",
   "name": "python3"
  },
  "language_info": {
   "codemirror_mode": {
    "name": "ipython",
    "version": 3
   },
   "file_extension": ".py",
   "mimetype": "text/x-python",
   "name": "python",
   "nbconvert_exporter": "python",
   "pygments_lexer": "ipython3",
   "version": "3.13.2"
  }
 },
 "nbformat": 4,
 "nbformat_minor": 5
}
