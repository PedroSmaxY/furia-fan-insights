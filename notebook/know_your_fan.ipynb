{
 "cells": [
  {
   "cell_type": "markdown",
   "id": "04f92b18-3ecf-4085-bff0-a2808d61c36d",
   "metadata": {},
   "source": [
    "## Importação de Bibliotecas"
   ]
  },
  {
   "cell_type": "code",
   "execution_count": 1,
   "id": "f76b1c5f-4836-43f2-bcce-9116ceb3ece5",
   "metadata": {},
   "outputs": [],
   "source": [
    "import ipywidgets as widgets\n",
    "from IPython.display import display, clear_output\n",
    "import cv2\n",
    "import requests\n",
    "from bs4 import BeautifulSoup\n",
    "import io\n",
    "import numpy as np\n",
    "from PIL import Image\n",
    "import face_recognition"
   ]
  },
  {
   "cell_type": "markdown",
   "id": "590f867e-a596-4900-ae2d-88b1eafdf496",
   "metadata": {},
   "source": [
    "## Funções Auxiliares"
   ]
  },
  {
   "cell_type": "markdown",
   "id": "8efc21e4-3450-48a9-b70a-7cf5485bb153",
   "metadata": {},
   "source": [
    "### Função para validar documentos com detecção de rosto"
   ]
  },
  {
   "cell_type": "code",
   "execution_count": 2,
   "id": "82eeed37-edd6-400c-ab0d-87fca32675cd",
   "metadata": {},
   "outputs": [],
   "source": [
    "def validate_document(file_content):\n",
    "    face_cascade = cv2.CascadeClassifier(cv2.data.haarcascades + 'haarcascade_frontalface_default.xml')\n",
    "    img = Image.open(io.BytesIO(file_content))\n",
    "    img_array = np.array(img)\n",
    "    gray = cv2.cvtColor(img_array, cv2.COLOR_RGB2GRAY)\n",
    "    faces = face_cascade.detectMultiScale(gray, 1.1, 4)\n",
    "    return len(faces) > 0"
   ]
  },
  {
   "cell_type": "markdown",
   "id": "5a0b03b1-9922-4acc-b772-107620e6f8a8",
   "metadata": {},
   "source": [
    "### Função para validar links de perfis"
   ]
  },
  {
   "cell_type": "code",
   "execution_count": 3,
   "id": "cafd353a-ea1f-432e-a63b-0682d9b5f7ed",
   "metadata": {},
   "outputs": [],
   "source": [
    "def validate_profile_link(link, interests):\n",
    "    try:\n",
    "        response = requests.get(link, timeout=5)\n",
    "        soup = BeautifulSoup(response.content, 'html.parser')\n",
    "        text = soup.get_text().lower()\n",
    "        return any(interest.lower() in text for interest in interests.split(','))\n",
    "    except:\n",
    "        return False"
   ]
  },
  {
   "cell_type": "markdown",
   "id": "c1d15f30-b8fc-4523-b411-55c752db66b8",
   "metadata": {},
   "source": [
    "### Função para comparar a foto do documento com a selfie da pessoa"
   ]
  },
  {
   "cell_type": "code",
   "execution_count": 4,
   "id": "3b169eb6-e9da-4e56-b20f-dd50d84dfa50",
   "metadata": {},
   "outputs": [],
   "source": [
    "def compare_selfie_with_document(selfie_content, document_content, threshold=0.6):\n",
    "    try:\n",
    "        selfie_img = face_recognition.load_image_file(io.BytesIO(selfie_content))\n",
    "        document_img = face_recognition.load_image_file(io.BytesIO(document_content))\n",
    "\n",
    "        selfie_face_locations = face_recognition.face_locations(selfie_img)\n",
    "        document_face_locations = face_recognition.face_locations(document_img)\n",
    "\n",
    "        if not selfie_face_locations or not document_face_locations:\n",
    "            return False, 1.0  # Não encontrou faces em uma ou ambas as imagens\n",
    "\n",
    "        # Extrai os encodings (características) das faces\n",
    "        selfie_face_encoding = face_recognition.face_encodings(selfie_img, selfie_face_locations)[0]\n",
    "        document_face_encoding = face_recognition.face_encodings(document_img, document_face_locations)[0]\n",
    "\n",
    "        # Calcula a distância entre as faces (menor valor = mais similar)\n",
    "        face_distance = face_recognition.face_distance([selfie_face_encoding], document_face_encoding)[0]\n",
    "\n",
    "        # Compara se a distância é menor que o limiar\n",
    "        match = face_distance <= threshold\n",
    "\n",
    "        return match, face_distance\n",
    "    except Exception as e:\n",
    "        print(f\"Erro ao comparar faces: {e}\")\n",
    "        return False, 1.0"
   ]
  },
  {
   "cell_type": "markdown",
   "id": "138bd5cc-4228-4e73-95d1-16f3d527c09f",
   "metadata": {},
   "source": [
    "## Seções do formulário: "
   ]
  },
  {
   "cell_type": "markdown",
   "id": "f4e7cc31-319a-4bc6-b916-a86da97169d9",
   "metadata": {},
   "source": [
    "### Seção 1: Dados Pessoais"
   ]
  },
  {
   "cell_type": "code",
   "execution_count": 5,
   "id": "e1ce0312-7195-45d9-b216-6b9afa63acc7",
   "metadata": {},
   "outputs": [
    {
     "data": {
      "application/vnd.jupyter.widget-view+json": {
       "model_id": "a05920ead4ec419dbe6f88383000bfe4",
       "version_major": 2,
       "version_minor": 0
      },
      "text/plain": [
       "Text(value='', description='Nome:')"
      ]
     },
     "metadata": {},
     "output_type": "display_data"
    },
    {
     "data": {
      "application/vnd.jupyter.widget-view+json": {
       "model_id": "6856e6c5303a49ce82b766b2492bc8c0",
       "version_major": 2,
       "version_minor": 0
      },
      "text/plain": [
       "Text(value='', description='Endereço:')"
      ]
     },
     "metadata": {},
     "output_type": "display_data"
    },
    {
     "data": {
      "application/vnd.jupyter.widget-view+json": {
       "model_id": "91a52cd559b947489bba3e96626f69d2",
       "version_major": 2,
       "version_minor": 0
      },
      "text/plain": [
       "Text(value='', description='CPF:')"
      ]
     },
     "metadata": {},
     "output_type": "display_data"
    }
   ],
   "source": [
    "name_input = widgets.Text(description=\"Nome:\")\n",
    "address_input = widgets.Text(description=\"Endereço:\")\n",
    "cpf_input = widgets.Text(description=\"CPF:\")\n",
    "display(name_input, address_input, cpf_input)"
   ]
  },
  {
   "cell_type": "markdown",
   "id": "88edd4bd-cc3e-4a06-a0f7-56ee978b686b",
   "metadata": {},
   "source": [
    "### Seção 2: Interesses"
   ]
  },
  {
   "cell_type": "code",
   "execution_count": 6,
   "id": "e44fadde-3b25-4d04-861d-b1aa19c4d08a",
   "metadata": {},
   "outputs": [
    {
     "data": {
      "application/vnd.jupyter.widget-view+json": {
       "model_id": "6c7e532ac6fa442fb79ffa701473e9aa",
       "version_major": 2,
       "version_minor": 0
      },
      "text/plain": [
       "Textarea(value='', description='Interesses (ex: jogos, times):', rows=3)"
      ]
     },
     "metadata": {},
     "output_type": "display_data"
    }
   ],
   "source": [
    "interests_input = widgets.Textarea(description=\"Interesses (ex: jogos, times):\", rows=3)\n",
    "display(interests_input)"
   ]
  },
  {
   "cell_type": "markdown",
   "id": "31e2dc26-e2f8-4fbe-9ee6-76d3a02f356c",
   "metadata": {},
   "source": [
    "### Seção 3: Upload de Documento"
   ]
  },
  {
   "cell_type": "code",
   "execution_count": 14,
   "id": "f1bdf866-c361-4d89-a098-0abc913e646f",
   "metadata": {},
   "outputs": [
    {
     "data": {
      "application/vnd.jupyter.widget-view+json": {
       "model_id": "18f5e8d9b9604e56ab218c5687c69b2e",
       "version_major": 2,
       "version_minor": 0
      },
      "text/plain": [
       "FileUpload(value=(), accept='image/*', description='Upload de Documento')"
      ]
     },
     "metadata": {},
     "output_type": "display_data"
    },
    {
     "data": {
      "application/vnd.jupyter.widget-view+json": {
       "model_id": "4d90556af5684752afdda4814d8d0809",
       "version_major": 2,
       "version_minor": 0
      },
      "text/plain": [
       "Output()"
      ]
     },
     "metadata": {},
     "output_type": "display_data"
    }
   ],
   "source": [
    "### Seção 3: Upload de Documento\n",
    "\n",
    "doc_upload = widgets.FileUpload(description=\"Upload de Documento\", accept=\"image/*\")\n",
    "doc_output = widgets.Output()\n",
    "display(doc_upload, doc_output)\n",
    "\n",
    "# Variável global para armazenar o conteúdo do documento\n",
    "document_content = None\n",
    "\n",
    "def on_doc_upload_change(change):\n",
    "    global document_content\n",
    "    with doc_output:\n",
    "        clear_output()\n",
    "        if doc_upload.value:\n",
    "            # Acessando o primeiro arquivo carregado\n",
    "            file_name = list(doc_upload.value.keys())[0]\n",
    "            file_content = doc_upload.value[file_name]['content']\n",
    "            document_content = file_content\n",
    "            \n",
    "            if validate_document(file_content):\n",
    "                print(\"Validando documento com IA... Validação concluída com sucesso!\")\n",
    "            else:\n",
    "                print(\"Validando documento com IA... Nenhum rosto detectado.\")\n",
    "                document_content = None  # Limpa o conteúdo se não for válido\n",
    "\n",
    "# Observa mudanças no upload de documento\n",
    "doc_upload.observe(on_doc_upload_change, names='value')"
   ]
  },
  {
   "cell_type": "markdown",
   "id": "75990bb7-73a2-4b00-8d76-727540fb517d",
   "metadata": {},
   "source": [
    "### Seção 4: Redes Sociais"
   ]
  },
  {
   "cell_type": "code",
   "execution_count": 8,
   "id": "8f364116-43ca-4baa-8c19-3e95959e49b9",
   "metadata": {},
   "outputs": [
    {
     "data": {
      "application/vnd.jupyter.widget-view+json": {
       "model_id": "460b7172c9a14f858b41ac67912b6cb3",
       "version_major": 2,
       "version_minor": 0
      },
      "text/plain": [
       "Text(value='', description='Redes Sociais (ex: @usuario):')"
      ]
     },
     "metadata": {},
     "output_type": "display_data"
    },
    {
     "data": {
      "application/vnd.jupyter.widget-view+json": {
       "model_id": "a26adcfa28854c38b9c18bd5c0bfdc4c",
       "version_major": 2,
       "version_minor": 0
      },
      "text/plain": [
       "Output()"
      ]
     },
     "metadata": {},
     "output_type": "display_data"
    }
   ],
   "source": [
    "social_input = widgets.Text(description=\"Redes Sociais (ex: @usuario):\")\n",
    "social_output = widgets.Output()\n",
    "display(social_input, social_output)\n",
    "\n",
    "def on_social_change(change):\n",
    "    with social_output:\n",
    "        clear_output()\n",
    "        if social_input.value:\n",
    "            print(f\"Simulando leitura de interações... Encontradas 50 interações relacionadas a esports.\")\n",
    "social_input.observe(on_social_change, names='value')"
   ]
  },
  {
   "cell_type": "markdown",
   "id": "09072f0e-7192-40ea-b268-39a8a40d4644",
   "metadata": {},
   "source": [
    "### Seção 5: Links de Perfis"
   ]
  },
  {
   "cell_type": "code",
   "execution_count": 9,
   "id": "e6934d79-b2cf-416b-ac85-98af97d5091c",
   "metadata": {},
   "outputs": [
    {
     "data": {
      "application/vnd.jupyter.widget-view+json": {
       "model_id": "a6c2d479c8cb461bbc223a1f144161b1",
       "version_major": 2,
       "version_minor": 0
      },
      "text/plain": [
       "Text(value='', description='Link de Perfil:')"
      ]
     },
     "metadata": {},
     "output_type": "display_data"
    },
    {
     "data": {
      "application/vnd.jupyter.widget-view+json": {
       "model_id": "f014128b95d145788189d0bb8722c984",
       "version_major": 2,
       "version_minor": 0
      },
      "text/plain": [
       "Output()"
      ]
     },
     "metadata": {},
     "output_type": "display_data"
    }
   ],
   "source": [
    "profile_link_input = widgets.Text(description=\"Link de Perfil:\")\n",
    "profile_output = widgets.Output()\n",
    "display(profile_link_input, profile_output)\n",
    "\n",
    "def on_link_change(change):\n",
    "    with profile_output:\n",
    "        clear_output()\n",
    "        if profile_link_input.value and validate_profile_link(profile_link_input.value, interests_input.value):\n",
    "            print(\"Validando conteúdo com IA... Conteúdo relevante ao perfil!\")\n",
    "        elif profile_link_input.value:\n",
    "            print(\"Validando conteúdo com IA... Conteúdo não relevante ou link inválido.\")\n",
    "profile_link_input.observe(on_link_change, names='value')"
   ]
  },
  {
   "cell_type": "markdown",
   "id": "a7831413-b3ae-4653-9235-3f4627c79af2",
   "metadata": {},
   "source": [
    "### Seção 6: Verificação de Identidade por Selfie"
   ]
  },
  {
   "cell_type": "code",
   "execution_count": 12,
   "id": "1f19717d-6598-4d62-9cd8-162a12271c77",
   "metadata": {},
   "outputs": [
    {
     "data": {
      "application/vnd.jupyter.widget-view+json": {
       "model_id": "e6f7ffb31c2d48378ae1504215da37c8",
       "version_major": 2,
       "version_minor": 0
      },
      "text/plain": [
       "FileUpload(value=(), accept='image/*', description='Upload de Selfie')"
      ]
     },
     "metadata": {},
     "output_type": "display_data"
    },
    {
     "data": {
      "application/vnd.jupyter.widget-view+json": {
       "model_id": "b15777d3314647d8a6f9a01ff3b184f1",
       "version_major": 2,
       "version_minor": 0
      },
      "text/plain": [
       "Button(description='Verificar Identidade', style=ButtonStyle())"
      ]
     },
     "metadata": {},
     "output_type": "display_data"
    },
    {
     "data": {
      "application/vnd.jupyter.widget-view+json": {
       "model_id": "b11c7f6e45c44c43a7d21d0e00193e22",
       "version_major": 2,
       "version_minor": 0
      },
      "text/plain": [
       "Output()"
      ]
     },
     "metadata": {},
     "output_type": "display_data"
    }
   ],
   "source": [
    "### Seção 6: Verificação de Identidade por Selfie\n",
    "\n",
    "selfie_upload = widgets.FileUpload(description=\"Upload de Selfie\", accept=\"image/*\")\n",
    "verify_button = widgets.Button(description=\"Verificar Identidade\")\n",
    "verify_output = widgets.Output()\n",
    "\n",
    "display(selfie_upload, verify_button, verify_output)\n",
    "\n",
    "# Variável para armazenar o conteúdo da selfie\n",
    "selfie_content = None\n",
    "\n",
    "# Manipulador para o upload de selfie\n",
    "def on_selfie_upload_change(change):\n",
    "    global selfie_content\n",
    "    if selfie_upload.value:\n",
    "        # Acessa o conteúdo do arquivo corretamente\n",
    "        uploaded_file = next(iter(selfie_upload.value))\n",
    "        selfie_content = selfie_upload.value[uploaded_file]['content']\n",
    "\n",
    "selfie_upload.observe(on_selfie_upload_change, names='value')\n",
    "\n",
    "# Manipulador para o botão de verificação\n",
    "def on_verify_button_click(b):\n",
    "    with verify_output:\n",
    "        clear_output()\n",
    "        if not document_content:\n",
    "            print(\"Erro: Nenhum documento válido foi carregado!\")\n",
    "            return\n",
    "        \n",
    "        if not selfie_content:\n",
    "            print(\"Erro: Nenhuma selfie foi carregada!\")\n",
    "            return\n",
    "        \n",
    "        # Testa com diferentes thresholds\n",
    "        thresholds = [0.5, 0.6, 0.7]\n",
    "        \n",
    "        print(\"Verificando identidade...\")\n",
    "        print(\"-\" * 50)\n",
    "        \n",
    "        for threshold in thresholds:\n",
    "            match, similarity = compare_selfie_with_document(selfie_content, document_content, threshold)\n",
    "            \n",
    "            result = \"✅ CORRESPONDE\" if match else \"❌ NÃO CORRESPONDE\"\n",
    "            confidence = round((1 - similarity) * 100, 2)\n",
    "            \n",
    "            print(f\"Threshold {threshold}: {result} (Confiança: {confidence}%)\")\n",
    "        \n",
    "        print(\"-\" * 50)\n",
    "        \n",
    "        # Verificação com threshold padrão para resultado final\n",
    "        match, similarity = compare_selfie_with_document(selfie_content, document_content)\n",
    "        confidence = round((1 - similarity) * 100, 2)\n",
    "        \n",
    "        if match:\n",
    "            print(f\"✅ VERIFICAÇÃO CONCLUÍDA: As imagens correspondem à mesma pessoa! (Confiança: {confidence}%)\")\n",
    "        else:\n",
    "            print(f\"❌ VERIFICAÇÃO FALHOU: As imagens não correspondem ou houve um erro na verificação. (Confiança: {confidence}%)\")\n",
    "\n",
    "verify_button.on_click(on_verify_button_click)"
   ]
  },
  {
   "cell_type": "markdown",
   "id": "8cc09d24-d6b2-44be-a2a1-0a7bba33c9f8",
   "metadata": {},
   "source": [
    "## Instruções de Uso\n",
    "\n",
    "1. **Dados Pessoais**: Insira seu nome, endereço e CPF nos campos fornecidos.\n",
    "2. **Interesses**: Descreva seus interesses em esports, como jogos favoritos, times (ex: FURIA), eventos e compras relacionadas.\n",
    "3. **Upload de Documento**: Faça upload de uma imagem de um documento de identificação. A IA detectará se há um rosto na imagem.\n",
    "4. **Redes Sociais**: Insira seu perfil de rede social (ex: Twitter, Instagram). A simulação exibirá interações relacionadas a esports.\n",
    "5. **Links de Perfis**: Insira um link para seu perfil em um site de esports. A IA verificará se o conteúdo é relevante com base nos seus interesses."
   ]
  }
 ],
 "metadata": {
  "kernelspec": {
   "display_name": "Python 3 (ipykernel)",
   "language": "python",
   "name": "python3"
  },
  "language_info": {
   "codemirror_mode": {
    "name": "ipython",
    "version": 3
   },
   "file_extension": ".py",
   "mimetype": "text/x-python",
   "name": "python",
   "nbconvert_exporter": "python",
   "pygments_lexer": "ipython3",
   "version": "3.13.2"
  }
 },
 "nbformat": 4,
 "nbformat_minor": 5
}
