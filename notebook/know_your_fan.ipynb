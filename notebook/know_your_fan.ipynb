{
 "cells": [
  {
   "cell_type": "markdown",
   "id": "04f92b18-3ecf-4085-bff0-a2808d61c36d",
   "metadata": {},
   "source": [
    "## Importação de Bibliotecas"
   ]
  },
  {
   "cell_type": "code",
   "execution_count": 1,
   "id": "f76b1c5f-4836-43f2-bcce-9116ceb3ece5",
   "metadata": {},
   "outputs": [],
   "source": [
    "import ipywidgets as widgets\n",
    "from IPython.display import display, clear_output, HTML, Image\n",
    "import cv2\n",
    "import requests\n",
    "from bs4 import BeautifulSoup\n",
    "import io\n",
    "import numpy as np\n",
    "from PIL import Image\n",
    "import face_recognition\n",
    "import datetime"
   ]
  },
  {
   "cell_type": "code",
   "execution_count": 2,
   "id": "b621c322-5a50-45fb-af6d-70bf081ed3ac",
   "metadata": {},
   "outputs": [
    {
     "data": {
      "text/html": [
       "<div style='text-align:center'><img src='https://apiesltv.imgix.net/images/team/logo/180_6389fd40-d1b3-4bd3-9a64-6ede7e24bd38.png?auto=compress&w=400' width='150px'/></div>"
      ],
      "text/plain": [
       "<IPython.core.display.HTML object>"
      ]
     },
     "metadata": {},
     "output_type": "display_data"
    },
    {
     "data": {
      "text/html": [
       "<h1 style='text-align:center; color:#ff3d00;'>FURIA FAN INSIGHTS</h1>"
      ],
      "text/plain": [
       "<IPython.core.display.HTML object>"
      ]
     },
     "metadata": {},
     "output_type": "display_data"
    },
    {
     "data": {
      "text/html": [
       "<p style='text-align:center; font-size:16px;'>Sistema de verificação e engajamento de fãs</p><hr>"
      ],
      "text/plain": [
       "<IPython.core.display.HTML object>"
      ]
     },
     "metadata": {},
     "output_type": "display_data"
    }
   ],
   "source": [
    "display(HTML(\"<div style='text-align:center'><img src='https://apiesltv.imgix.net/images/team/logo/180_6389fd40-d1b3-4bd3-9a64-6ede7e24bd38.png?auto=compress&w=400' width='150px'/></div>\"))\n",
    "display(HTML(\"<h1 style='text-align:center; color:#ff3d00;'>FURIA FAN INSIGHTS</h1>\"))\n",
    "display(HTML(\"<p style='text-align:center; font-size:16px;'>Sistema de verificação e engajamento de fãs</p><hr>\"))"
   ]
  },
  {
   "cell_type": "markdown",
   "id": "590f867e-a596-4900-ae2d-88b1eafdf496",
   "metadata": {
    "jp-MarkdownHeadingCollapsed": true
   },
   "source": [
    "## Funções Auxiliares"
   ]
  },
  {
   "cell_type": "markdown",
   "id": "8efc21e4-3450-48a9-b70a-7cf5485bb153",
   "metadata": {},
   "source": [
    "### Função para validar documentos com detecção de rosto"
   ]
  },
  {
   "cell_type": "code",
   "execution_count": 3,
   "id": "82eeed37-edd6-400c-ab0d-87fca32675cd",
   "metadata": {},
   "outputs": [],
   "source": [
    "def validate_document(file_content):\n",
    "    face_cascade = cv2.CascadeClassifier(cv2.data.haarcascades + 'haarcascade_frontalface_default.xml')\n",
    "    img = Image.open(io.BytesIO(file_content))\n",
    "    img_array = np.array(img)\n",
    "    gray = cv2.cvtColor(img_array, cv2.COLOR_RGB2GRAY)\n",
    "    faces = face_cascade.detectMultiScale(gray, 1.1, 4)\n",
    "    return len(faces) > 0"
   ]
  },
  {
   "cell_type": "markdown",
   "id": "5a0b03b1-9922-4acc-b772-107620e6f8a8",
   "metadata": {},
   "source": [
    "### Função para validar links de perfis"
   ]
  },
  {
   "cell_type": "code",
   "execution_count": 4,
   "id": "cafd353a-ea1f-432e-a63b-0682d9b5f7ed",
   "metadata": {},
   "outputs": [],
   "source": [
    "def validate_profile_link(link, interests):\n",
    "    try:\n",
    "        response = requests.get(link, timeout=5)\n",
    "        soup = BeautifulSoup(response.content, 'html.parser')\n",
    "        text = soup.get_text().lower()\n",
    "        return any(interest.lower() in text for interest in interests.split(','))\n",
    "    except:\n",
    "        return False"
   ]
  },
  {
   "cell_type": "markdown",
   "id": "c1d15f30-b8fc-4523-b411-55c752db66b8",
   "metadata": {},
   "source": [
    "### Função para comparar a foto do documento com a selfie da pessoa"
   ]
  },
  {
   "cell_type": "code",
   "execution_count": 5,
   "id": "3b169eb6-e9da-4e56-b20f-dd50d84dfa50",
   "metadata": {},
   "outputs": [],
   "source": [
    "def compare_selfie_with_document(selfie_content, document_content, threshold=0.6):\n",
    "    try:\n",
    "        selfie_img = face_recognition.load_image_file(io.BytesIO(selfie_content))\n",
    "        document_img = face_recognition.load_image_file(io.BytesIO(document_content))\n",
    "\n",
    "        selfie_face_locations = face_recognition.face_locations(selfie_img)\n",
    "        document_face_locations = face_recognition.face_locations(document_img)\n",
    "\n",
    "        if not selfie_face_locations or not document_face_locations:\n",
    "            return False, 1.0  # Não encontrou faces em uma ou ambas as imagens\n",
    "\n",
    "        # Extrai os encodings (características) das faces\n",
    "        selfie_face_encoding = face_recognition.face_encodings(selfie_img, selfie_face_locations)[0]\n",
    "        document_face_encoding = face_recognition.face_encodings(document_img, document_face_locations)[0]\n",
    "\n",
    "        # Calcula a distância entre as faces (menor valor = mais similar)\n",
    "        face_distance = face_recognition.face_distance([selfie_face_encoding], document_face_encoding)[0]\n",
    "\n",
    "        # Compara se a distância é menor que o limiar\n",
    "        match = face_distance <= threshold\n",
    "\n",
    "        return match, face_distance\n",
    "    except Exception as e:\n",
    "        print(f\"Erro ao comparar faces: {e}\")\n",
    "        return False, 1.0"
   ]
  },
  {
   "cell_type": "markdown",
   "id": "138bd5cc-4228-4e73-95d1-16f3d527c09f",
   "metadata": {},
   "source": [
    "## Seções do formulário: "
   ]
  },
  {
   "cell_type": "markdown",
   "id": "f4e7cc31-319a-4bc6-b916-a86da97169d9",
   "metadata": {},
   "source": [
    "### Seção 1: Dados Pessoais"
   ]
  },
  {
   "cell_type": "code",
   "execution_count": 6,
   "id": "e1ce0312-7195-45d9-b216-6b9afa63acc7",
   "metadata": {},
   "outputs": [
    {
     "data": {
      "application/vnd.jupyter.widget-view+json": {
       "model_id": "04654d029a2349498ec198d9f0f60d61",
       "version_major": 2,
       "version_minor": 0
      },
      "text/plain": [
       "Text(value='', description='Nome:')"
      ]
     },
     "metadata": {},
     "output_type": "display_data"
    },
    {
     "data": {
      "application/vnd.jupyter.widget-view+json": {
       "model_id": "fe5b6193a79742f3b0d760ac01dbf64d",
       "version_major": 2,
       "version_minor": 0
      },
      "text/plain": [
       "Text(value='', description='Endereço:')"
      ]
     },
     "metadata": {},
     "output_type": "display_data"
    },
    {
     "data": {
      "application/vnd.jupyter.widget-view+json": {
       "model_id": "08f485e64388485da0bca3ebe3f10140",
       "version_major": 2,
       "version_minor": 0
      },
      "text/plain": [
       "Text(value='', description='CPF:')"
      ]
     },
     "metadata": {},
     "output_type": "display_data"
    },
    {
     "data": {
      "application/vnd.jupyter.widget-view+json": {
       "model_id": "fcc45918b4974d27a4e923017b7d23d9",
       "version_major": 2,
       "version_minor": 0
      },
      "text/plain": [
       "Output()"
      ]
     },
     "metadata": {},
     "output_type": "display_data"
    }
   ],
   "source": [
    "def validate_cpf(cpf):\n",
    "    cpf = ''.join(filter(str.isdigit, cpf))\n",
    "    \n",
    "    if len(cpf) != 11:\n",
    "        return False\n",
    "    \n",
    "    if cpf == cpf[0] * 11:\n",
    "        return False\n",
    "    \n",
    "    soma = 0\n",
    "    for i in range(9):\n",
    "        soma += int(cpf[i]) * (10 - i)\n",
    "    resto = soma % 11\n",
    "    digito1 = 0 if resto < 2 else 11 - resto\n",
    "    \n",
    "    if digito1 != int(cpf[9]):\n",
    "        return False\n",
    "\n",
    "    soma = 0\n",
    "    for i in range(10):\n",
    "        soma += int(cpf[i]) * (11 - i)\n",
    "    resto = soma % 11\n",
    "    digito2 = 0 if resto < 2 else 11 - resto\n",
    "    \n",
    "    return digito2 == int(cpf[10])\n",
    "\n",
    "name_input = widgets.Text(description=\"Nome:\")\n",
    "address_input = widgets.Text(description=\"Endereço:\")\n",
    "cpf_input = widgets.Text(description=\"CPF:\")\n",
    "cpf_output = widgets.Output()  # Output para mostrar validação do CPF\n",
    "\n",
    "display(name_input, address_input, cpf_input, cpf_output)\n",
    "\n",
    "def on_cpf_change(change):\n",
    "    with cpf_output:\n",
    "        clear_output()\n",
    "        if cpf_input.value:\n",
    "            cpf = cpf_input.value\n",
    "            if validate_cpf(cpf):\n",
    "                print(\"✅ CPF válido\")\n",
    "            else:\n",
    "                print(\"❌ CPF inválido. Por favor, insira um CPF válido.\")\n",
    "\n",
    "cpf_input.observe(on_cpf_change, names='value')"
   ]
  },
  {
   "cell_type": "markdown",
   "id": "88edd4bd-cc3e-4a06-a0f7-56ee978b686b",
   "metadata": {},
   "source": [
    "### Seção 2: Interesses"
   ]
  },
  {
   "cell_type": "code",
   "execution_count": 7,
   "id": "e44fadde-3b25-4d04-861d-b1aa19c4d08a",
   "metadata": {},
   "outputs": [
    {
     "data": {
      "application/vnd.jupyter.widget-view+json": {
       "model_id": "71b3ca70455f49218b6bd948feab5d3e",
       "version_major": 2,
       "version_minor": 0
      },
      "text/plain": [
       "Textarea(value='', description='Interesses (ex: jogos, times):', rows=3)"
      ]
     },
     "metadata": {},
     "output_type": "display_data"
    }
   ],
   "source": [
    "interests_input = widgets.Textarea(description=\"Interesses (ex: jogos, times):\", rows=3)\n",
    "display(interests_input)"
   ]
  },
  {
   "cell_type": "markdown",
   "id": "31e2dc26-e2f8-4fbe-9ee6-76d3a02f356c",
   "metadata": {},
   "source": [
    "### Seção 3: Upload de Documento"
   ]
  },
  {
   "cell_type": "code",
   "execution_count": 8,
   "id": "f1bdf866-c361-4d89-a098-0abc913e646f",
   "metadata": {},
   "outputs": [
    {
     "data": {
      "application/vnd.jupyter.widget-view+json": {
       "model_id": "4bcc659b457049d4ad28093c99f72803",
       "version_major": 2,
       "version_minor": 0
      },
      "text/plain": [
       "FileUpload(value=(), accept='.jpg,.jpeg,.png,.pdf,.bmp', description='Upload de Documento')"
      ]
     },
     "metadata": {},
     "output_type": "display_data"
    },
    {
     "data": {
      "application/vnd.jupyter.widget-view+json": {
       "model_id": "6c53e234ad6c4aa093ca9f4a37c05eb0",
       "version_major": 2,
       "version_minor": 0
      },
      "text/plain": [
       "Output()"
      ]
     },
     "metadata": {},
     "output_type": "display_data"
    }
   ],
   "source": [
    "### Seção 3: Upload de Documento\n",
    "\n",
    "doc_upload = widgets.FileUpload(\n",
    "    description=\"Upload de Documento\", \n",
    "    accept=\".jpg,.jpeg,.png,.pdf,.bmp\",  # Aceita mais formatos\n",
    "    multiple=False  # Permite apenas um arquivo\n",
    ")\n",
    "doc_output = widgets.Output()\n",
    "display(doc_upload, doc_output)\n",
    "\n",
    "# Variável para armazenar o conteúdo do documento\n",
    "document_content = None\n",
    "\n",
    "def on_doc_upload_change(change):\n",
    "    global document_content\n",
    "    with doc_output:\n",
    "        clear_output()\n",
    "        if doc_upload.value:\n",
    "            try:\n",
    "                # Tenta extrair o conteúdo do arquivo\n",
    "                if isinstance(doc_upload.value, tuple) and len(doc_upload.value) > 0:\n",
    "                    # Se for uma tupla, vamos tentar acessar o conteúdo diretamente do objeto\n",
    "                    if hasattr(doc_upload.value[0], 'content'):\n",
    "                        file_content = doc_upload.value[0].content  # Acessa o atributo content\n",
    "                    elif hasattr(doc_upload.value[0], '_data'):\n",
    "                        file_content = doc_upload.value[0]._data  # Tenta acessar _data\n",
    "                    elif hasattr(doc_upload.value[0], 'data'):\n",
    "                        file_content = doc_upload.value[0].data  # Tenta acessar data\n",
    "                    elif hasattr(doc_upload.value[0], 'value'):\n",
    "                        file_content = doc_upload.value[0].value  # Tenta acessar value\n",
    "                    else:\n",
    "                        # Último recurso: tentativa de conversão direta\n",
    "                        print(\"Tentando conversão direta do objeto para bytes...\")\n",
    "                        file_content = bytes(doc_upload.value[0])\n",
    "                else:\n",
    "                    print(\"Formato de upload não reconhecido.\")\n",
    "                    return\n",
    "                \n",
    "                document_content = file_content\n",
    "                \n",
    "                # Mostra informações sobre o arquivo\n",
    "                print(f\"Documento carregado! Tamanho: {len(file_content) / 1024:.1f} KB\")\n",
    "                \n",
    "                if validate_document(file_content):\n",
    "                    print(\"Validando documento com IA... Face detectada com sucesso!\")\n",
    "                else:\n",
    "                    print(\"Validando documento com IA... Aviso: Nenhum rosto foi detectado.\")\n",
    "                    print(\"Você ainda pode prosseguir, mas a verificação pode não funcionar corretamente.\")\n",
    "            except Exception as e:\n",
    "                print(f\"Erro ao processar arquivo: {e}\")\n",
    "                print(f\"Tipo do objeto: {type(doc_upload.value)}\")\n",
    "                if isinstance(doc_upload.value, tuple) and len(doc_upload.value) > 0:\n",
    "                    print(f\"Tipo do primeiro elemento: {type(doc_upload.value[0])}\")\n",
    "                    print(f\"Atributos disponíveis: {dir(doc_upload.value[0])}\")\n",
    "                document_content = None\n",
    "\n",
    "doc_upload.observe(on_doc_upload_change, names='value')"
   ]
  },
  {
   "cell_type": "markdown",
   "id": "75990bb7-73a2-4b00-8d76-727540fb517d",
   "metadata": {},
   "source": [
    "### Seção 4: Redes Sociais"
   ]
  },
  {
   "cell_type": "code",
   "execution_count": 14,
   "id": "8f364116-43ca-4baa-8c19-3e95959e49b9",
   "metadata": {},
   "outputs": [
    {
     "data": {
      "application/vnd.jupyter.widget-view+json": {
       "model_id": "48adffd0fadc4744a8b802a350a9f323",
       "version_major": 2,
       "version_minor": 0
      },
      "text/plain": [
       "Text(value='', description='Redes Sociais:', placeholder='@usuario1, @usuario2, ...')"
      ]
     },
     "metadata": {},
     "output_type": "display_data"
    },
    {
     "data": {
      "application/vnd.jupyter.widget-view+json": {
       "model_id": "abab7807981d4343b87321e91256b256",
       "version_major": 2,
       "version_minor": 0
      },
      "text/plain": [
       "HTML(value=\"<small style='color:#666'>Separe múltiplos perfis com vírgulas. Ex: @furia_cs, @usuario_twitter</s…"
      ]
     },
     "metadata": {},
     "output_type": "display_data"
    },
    {
     "data": {
      "application/vnd.jupyter.widget-view+json": {
       "model_id": "03f9af7abf9f4112ba3b0919ab6fc400",
       "version_major": 2,
       "version_minor": 0
      },
      "text/plain": [
       "Output()"
      ]
     },
     "metadata": {},
     "output_type": "display_data"
    }
   ],
   "source": [
    "# Seção 4: Redes Sociais - Versão melhorada\n",
    "social_input = widgets.Text(\n",
    "    description=\"Redes Sociais:\",\n",
    "    placeholder=\"@usuario1, @usuario2, ...\"\n",
    ")\n",
    "social_help = widgets.HTML(\n",
    "    value=\"<small style='color:#666'>Separe múltiplos perfis com vírgulas. Ex: @furia_cs, @usuario_twitter</small>\"\n",
    ")\n",
    "social_output = widgets.Output()\n",
    "\n",
    "display(social_input, social_help, social_output)\n",
    "\n",
    "def on_social_change(change):\n",
    "    with social_output:\n",
    "        clear_output()\n",
    "        if social_input.value:\n",
    "            # Conta quantos perfis foram informados\n",
    "            perfis = [p.strip() for p in social_input.value.split(',') if p.strip()]\n",
    "            num_perfis = len(perfis)\n",
    "            \n",
    "            if num_perfis > 0:\n",
    "                print(f\"Simulando leitura de interações... Encontradas {num_perfis * 10} interações relacionadas a esports.\")\n",
    "                \n",
    "                # Lista cada perfil detectado\n",
    "                print(\"\\nPerfis detectados:\")\n",
    "                for i, perfil in enumerate(perfis, 1):\n",
    "                    print(f\"{i}. {perfil}\")\n",
    "            \n",
    "social_input.observe(on_social_change, names='value')"
   ]
  },
  {
   "cell_type": "markdown",
   "id": "09072f0e-7192-40ea-b268-39a8a40d4644",
   "metadata": {},
   "source": [
    "### Seção 5: Links de Perfis"
   ]
  },
  {
   "cell_type": "code",
   "execution_count": 18,
   "id": "e6934d79-b2cf-416b-ac85-98af97d5091c",
   "metadata": {},
   "outputs": [
    {
     "data": {
      "application/vnd.jupyter.widget-view+json": {
       "model_id": "10e8f2f97e004cdbb45c4a49ff915d37",
       "version_major": 2,
       "version_minor": 0
      },
      "text/plain": [
       "Text(value='', description='Link de Perfil:', placeholder='https://site1.com, https://site2.com, ...')"
      ]
     },
     "metadata": {},
     "output_type": "display_data"
    },
    {
     "data": {
      "application/vnd.jupyter.widget-view+json": {
       "model_id": "74aa55fc53594ecb9cd1eaf8be27ecad",
       "version_major": 2,
       "version_minor": 0
      },
      "text/plain": [
       "HTML(value=\"<small style='color:#666'>Separe múltiplos links com vírgulas. Ex: https://steamcommunity.com/id/s…"
      ]
     },
     "metadata": {},
     "output_type": "display_data"
    },
    {
     "data": {
      "application/vnd.jupyter.widget-view+json": {
       "model_id": "af45c362f9c14e479542487396bb4d97",
       "version_major": 2,
       "version_minor": 0
      },
      "text/plain": [
       "Output()"
      ]
     },
     "metadata": {},
     "output_type": "display_data"
    }
   ],
   "source": [
    "profile_link_input = widgets.Text(\n",
    "    description=\"Link de Perfil:\",\n",
    "    placeholder=\"https://site1.com, https://site2.com, ...\"\n",
    ")\n",
    "profile_help = widgets.HTML(\n",
    "    value=\"<small style='color:#666'>Separe múltiplos links com vírgulas. Ex: https://steamcommunity.com/id/seuuser, https://faceit.com/pt-br/players/seuuser</small>\"\n",
    ")\n",
    "profile_output = widgets.Output()\n",
    "\n",
    "display(profile_link_input, profile_help, profile_output)\n",
    "\n",
    "def on_link_change(change):\n",
    "    with profile_output:\n",
    "        clear_output()\n",
    "        if profile_link_input.value:\n",
    "            links = [link.strip() for link in profile_link_input.value.split(',') if link.strip()]\n",
    "            \n",
    "            if not links:\n",
    "                return\n",
    "                \n",
    "            # Valida cada link\n",
    "            valid_links = []\n",
    "            invalid_links = []\n",
    "            \n",
    "            print(\"Validando links de perfil...\")\n",
    "            \n",
    "            for link in links:\n",
    "                if validate_profile_link(link, interests_input.value):\n",
    "                    valid_links.append(link)\n",
    "                else:\n",
    "                    invalid_links.append(link)\n",
    "            \n",
    "            # Exibe os resultados\n",
    "            if valid_links:\n",
    "                print(\"\\n✅ Links com conteúdo relevante:\")\n",
    "                for i, link in enumerate(valid_links, 1):\n",
    "                    print(f\"{i}. {link}\")\n",
    "            \n",
    "            if invalid_links:\n",
    "                print(\"\\n❌ Links sem conteúdo relevante ou inválidos:\")\n",
    "                for i, link in enumerate(invalid_links, 1):\n",
    "                    print(f\"{i}. {link}\")\n",
    "                    \n",
    "            # Resumo da validação\n",
    "            total = len(links)\n",
    "            valid = len(valid_links)\n",
    "            print(f\"\\nResumo: {valid}/{total} links validados com sucesso.\")\n",
    "            \n",
    "            if valid > 0:\n",
    "                print(f\"Análise de IA: {valid} perfis correspondem aos seus interesses em esports.\")\n",
    "\n",
    "profile_link_input.observe(on_link_change, names='value')"
   ]
  },
  {
   "cell_type": "markdown",
   "id": "a7831413-b3ae-4653-9235-3f4627c79af2",
   "metadata": {
    "editable": true,
    "slideshow": {
     "slide_type": ""
    },
    "tags": []
   },
   "source": [
    "### Seção 6: Verificação de Identidade por Selfie"
   ]
  },
  {
   "cell_type": "code",
   "execution_count": 11,
   "id": "1f19717d-6598-4d62-9cd8-162a12271c77",
   "metadata": {},
   "outputs": [
    {
     "data": {
      "application/vnd.jupyter.widget-view+json": {
       "model_id": "b4aa24f16f654d6db1a68d0cbcc32d72",
       "version_major": 2,
       "version_minor": 0
      },
      "text/plain": [
       "FileUpload(value=(), accept='.jpg,.jpeg,.png,.bmp', description='Upload de Selfie')"
      ]
     },
     "metadata": {},
     "output_type": "display_data"
    },
    {
     "data": {
      "application/vnd.jupyter.widget-view+json": {
       "model_id": "071154d9e2794005943fb0cf15223ce3",
       "version_major": 2,
       "version_minor": 0
      },
      "text/plain": [
       "Output()"
      ]
     },
     "metadata": {},
     "output_type": "display_data"
    },
    {
     "data": {
      "application/vnd.jupyter.widget-view+json": {
       "model_id": "32ecf2fc97094fbfa1a677f420e9f840",
       "version_major": 2,
       "version_minor": 0
      },
      "text/plain": [
       "Button(description='Verificar Identidade', style=ButtonStyle())"
      ]
     },
     "metadata": {},
     "output_type": "display_data"
    },
    {
     "data": {
      "application/vnd.jupyter.widget-view+json": {
       "model_id": "10f664fa11cd44e8bba06ef0b996c79a",
       "version_major": 2,
       "version_minor": 0
      },
      "text/plain": [
       "Output()"
      ]
     },
     "metadata": {},
     "output_type": "display_data"
    }
   ],
   "source": [
    "### Seção 6: Verificação de Identidade por Selfie\n",
    "\n",
    "selfie_upload = widgets.FileUpload(\n",
    "    description=\"Upload de Selfie\", \n",
    "    accept=\".jpg,.jpeg,.png,.bmp\",  # Formatos de imagem\n",
    "    multiple=False  # Permite apenas um arquivo\n",
    ")\n",
    "verify_button = widgets.Button(description=\"Verificar Identidade\")\n",
    "selfie_output = widgets.Output()  # Adicionado para mostrar feedback do upload\n",
    "verify_output = widgets.Output()\n",
    "\n",
    "display(selfie_upload, selfie_output, verify_button, verify_output)  # Adicionei selfie_output ao display\n",
    "\n",
    "# Variável para armazenar o conteúdo da selfie\n",
    "selfie_content = None\n",
    "\n",
    "# Manipulador para o upload de selfie\n",
    "def on_selfie_upload_change(change):\n",
    "    global selfie_content\n",
    "    with selfie_output:  # Use a saída específica para o upload\n",
    "        clear_output()\n",
    "        if selfie_upload.value:\n",
    "            try:\n",
    "                # Tenta extrair o conteúdo do arquivo\n",
    "                if isinstance(selfie_upload.value, tuple) and len(selfie_upload.value) > 0:\n",
    "                    # Se for uma tupla, vamos tentar acessar o conteúdo diretamente do objeto\n",
    "                    if hasattr(selfie_upload.value[0], 'content'):\n",
    "                        file_content = selfie_upload.value[0].content  # Acessa o atributo content\n",
    "                    elif hasattr(selfie_upload.value[0], '_data'):\n",
    "                        file_content = selfie_upload.value[0]._data  # Tenta acessar _data\n",
    "                    elif hasattr(selfie_upload.value[0], 'data'):\n",
    "                        file_content = selfie_upload.value[0].data  # Tenta acessar data\n",
    "                    elif hasattr(selfie_upload.value[0], 'value'):\n",
    "                        file_content = selfie_upload.value[0].value  # Tenta acessar value\n",
    "                    else:\n",
    "                        # Último recurso: tentativa de conversão direta\n",
    "                        print(\"Tentando conversão direta do objeto para bytes...\")\n",
    "                        file_content = bytes(selfie_upload.value[0])\n",
    "                else:\n",
    "                    print(\"Formato de upload não reconhecido.\")\n",
    "                    return\n",
    "                \n",
    "                selfie_content = file_content\n",
    "                print(f\"Selfie carregada! Tamanho: {len(file_content) / 1024:.1f} KB\")\n",
    "            except Exception as e:\n",
    "                print(f\"Erro ao processar selfie: {e}\")\n",
    "                print(f\"Tipo do objeto: {type(selfie_upload.value)}\")\n",
    "                if isinstance(selfie_upload.value, tuple) and len(selfie_upload.value) > 0:\n",
    "                    print(f\"Tipo do primeiro elemento: {type(selfie_upload.value[0])}\")\n",
    "                    print(f\"Atributos disponíveis: {dir(selfie_upload.value[0])}\")\n",
    "                selfie_content = None\n",
    "\n",
    "# Manipulador para o botão de verificação\n",
    "### Adicione este código após a função on_selfie_upload_change\n",
    "\n",
    "# Manipulador para o botão de verificação\n",
    "def on_verify_button_click(b):\n",
    "    with verify_output:\n",
    "        clear_output()\n",
    "        if not document_content:\n",
    "            print(\"Erro: Nenhum documento válido foi carregado!\")\n",
    "            return\n",
    "        \n",
    "        if not selfie_content:\n",
    "            print(\"Erro: Nenhuma selfie foi carregada!\")\n",
    "            return\n",
    "        \n",
    "        print(\"Verificando identidade...\")\n",
    "        print(\"-\" * 50)\n",
    "        \n",
    "        # Verificação com threshold padrão\n",
    "        match, similarity = compare_selfie_with_document(selfie_content, document_content)\n",
    "        confidence = round((1 - similarity) * 100, 2)\n",
    "        \n",
    "        if match:\n",
    "            print(f\"✅ VERIFICAÇÃO CONCLUÍDA: As imagens correspondem à mesma pessoa!\")\n",
    "            print(f\"Nível de confiança: {confidence}%\")\n",
    "            print(\"-\" * 50)\n",
    "            print(\"USUÁRIO VERIFICADO - Acesso liberado aos recursos exclusivos para fãs FURIA\")\n",
    "        else:\n",
    "            print(f\"❌ VERIFICAÇÃO FALHOU: As imagens não correspondem ou houve um erro.\")\n",
    "            print(f\"Nível de confiança: {confidence}%\")\n",
    "            print(\"-\" * 50)\n",
    "            print(\"Recomendações:\")\n",
    "            print(\"- Tente fazer upload de uma selfie com melhor iluminação\")\n",
    "            print(\"- Certifique-se que seu rosto está claramente visível\")\n",
    "            print(\"- Verifique se o documento possui uma foto nítida\")\n",
    "\n",
    "\n",
    "# Registra os manipuladores de eventos\n",
    "selfie_upload.observe(on_selfie_upload_change, names='value')\n",
    "verify_button.on_click(on_verify_button_click)  # Adicione o evento de clique do botão"
   ]
  },
  {
   "cell_type": "markdown",
   "id": "42904fb6-dbe1-4e57-89f6-5bfcd05af09b",
   "metadata": {},
   "source": [
    "### Seção 7: Relatório Final"
   ]
  },
  {
   "cell_type": "code",
   "execution_count": 12,
   "id": "9fc6d684-d74c-44e2-a55c-4dbec93043c5",
   "metadata": {},
   "outputs": [
    {
     "data": {
      "application/vnd.jupyter.widget-view+json": {
       "model_id": "ec224ffebb31485b9679250a780b408f",
       "version_major": 2,
       "version_minor": 0
      },
      "text/plain": [
       "Button(description='Gerar Relatório do Fã', style=ButtonStyle())"
      ]
     },
     "metadata": {},
     "output_type": "display_data"
    },
    {
     "data": {
      "application/vnd.jupyter.widget-view+json": {
       "model_id": "7ba49ddb1f8e427ebbcef5777b4197d6",
       "version_major": 2,
       "version_minor": 0
      },
      "text/plain": [
       "Output()"
      ]
     },
     "metadata": {},
     "output_type": "display_data"
    }
   ],
   "source": [
    "generate_report_button = widgets.Button(description=\"Gerar Relatório do Fã\")\n",
    "report_output = widgets.Output()\n",
    "\n",
    "display(generate_report_button, report_output)\n",
    "\n",
    "def on_report_button_click(b):\n",
    "    with report_output:\n",
    "        clear_output()\n",
    "        \n",
    "        # Verifica se os dados essenciais foram preenchidos\n",
    "        if not name_input.value or not cpf_input.value or not document_content:\n",
    "            print(\"⚠️ Por favor, preencha os dados essenciais (nome, CPF válido e documento) antes de gerar o relatório.\")\n",
    "            return\n",
    "            \n",
    "        # Cabeçalho do relatório\n",
    "        print(\"=\" * 60)\n",
    "        print(\"🔥 FURIA FAN INSIGHTS - RELATÓRIO DE FÃ 🔥\")\n",
    "        print(\"=\" * 60)\n",
    "        \n",
    "        # Dados pessoais\n",
    "        print(f\"👤 Nome: {name_input.value}\")\n",
    "        print(f\"🏠 Endereço: {address_input.value if address_input.value else 'Não informado'}\")\n",
    "        print(f\"📄 CPF: {cpf_input.value} {'✅ Válido' if validate_cpf(cpf_input.value) else '❌ Inválido'}\")\n",
    "        \n",
    "        # Verificação de documento\n",
    "        print(f\"🪪 Documento: {'✅ Verificado' if document_content else '❌ Não verificado'}\")\n",
    "        \n",
    "        # Verificação de identidade\n",
    "        identity_verified = False\n",
    "        if document_content and selfie_content:\n",
    "            match, similarity = compare_selfie_with_document(selfie_content, document_content)\n",
    "            confidence = round((1 - similarity) * 100, 2)\n",
    "            identity_verified = match\n",
    "            print(f\"🤳 Verificação de Identidade: {'✅ Verificada' if match else '❌ Falhou'} (Confiança: {confidence}%)\")\n",
    "        else:\n",
    "            print(\"🤳 Verificação de Identidade: ❌ Não realizada\")\n",
    "        \n",
    "        # Interesses\n",
    "        if interests_input.value:\n",
    "            interests = [i.strip() for i in interests_input.value.split(',')]\n",
    "            print(\"\\n📊 PERFIL DE INTERESSE\")\n",
    "            print(\"-\" * 60)\n",
    "            for interest in interests:\n",
    "                print(f\"• {interest}\")\n",
    "        \n",
    "        # Perfil de engajamento\n",
    "        print(\"\\n🌟 NÍVEL DE ENGAJAMENTO\")\n",
    "        print(\"-\" * 60)\n",
    "        \n",
    "        engagement_score = 0\n",
    "        factors = []\n",
    "        \n",
    "        # Calcula pontuação com base nos dados fornecidos\n",
    "        if identity_verified:\n",
    "            engagement_score += 30\n",
    "            factors.append(\"Identidade verificada (+30)\")\n",
    "            \n",
    "        if validate_cpf(cpf_input.value):\n",
    "            engagement_score += 10\n",
    "            factors.append(\"CPF válido (+10)\")\n",
    "            \n",
    "        if interests_input.value:\n",
    "            engagement_score += 15\n",
    "            factors.append(\"Interesses informados (+15)\")\n",
    "            \n",
    "        if social_input.value:\n",
    "            engagement_score += 20\n",
    "            factors.append(\"Redes sociais informadas (+20)\")\n",
    "            \n",
    "        if profile_link_input.value:\n",
    "            if validate_profile_link(profile_link_input.value, interests_input.value):\n",
    "                engagement_score += 25\n",
    "                factors.append(\"Perfil externo verificado (+25)\")\n",
    "            else:\n",
    "                engagement_score += 10\n",
    "                factors.append(\"Perfil externo informado (+10)\")\n",
    "        \n",
    "        # Exibe os fatores que afetaram a pontuação\n",
    "        for factor in factors:\n",
    "            print(f\"• {factor}\")\n",
    "            \n",
    "        # Categoria de fã\n",
    "        print(\"\\n🏆 CLASSIFICAÇÃO DO FÃ\")\n",
    "        print(\"-\" * 60)\n",
    "        \n",
    "        if engagement_score >= 80:\n",
    "            fan_category = \"FÃ SUPERFURIA 🔥🔥🔥\"\n",
    "            benefits = [\n",
    "                \"Acesso prioritário a ingressos para eventos\",\n",
    "                \"Descontos exclusivos de 20% em produtos oficiais\",\n",
    "                \"Possibilidade de encontros com jogadores\",\n",
    "                \"Acesso a áreas VIP em eventos\"\n",
    "            ]\n",
    "        elif engagement_score >= 50:\n",
    "            fan_category = \"FÃ LEAL 🔥🔥\"\n",
    "            benefits = [\n",
    "                \"Descontos de 10% em produtos oficiais\",\n",
    "                \"Pré-venda de ingressos para eventos\",\n",
    "                \"Newsletter exclusiva com conteúdo dos bastidores\"\n",
    "            ]\n",
    "        else:\n",
    "            fan_category = \"FÃ INICIANTE 🔥\"\n",
    "            benefits = [\n",
    "                \"Newsletter com novidades da FURIA\",\n",
    "                \"Acesso a conteúdos exclusivos no site\"\n",
    "            ]\n",
    "        \n",
    "        print(f\"Pontuação de Engajamento: {engagement_score}/100\")\n",
    "        print(f\"Categoria: {fan_category}\")\n",
    "        \n",
    "        print(\"\\n💎 BENEFÍCIOS DISPONÍVEIS\")\n",
    "        for benefit in benefits:\n",
    "            print(f\"• {benefit}\")\n",
    "            \n",
    "        print(\"\\n\" + \"=\" * 60)\n",
    "        print(\"Relatório gerado por FURIA Fan Insights - \" + str(datetime.datetime.now().strftime(\"%d/%m/%Y %H:%M\")))\n",
    "        print(\"=\" * 60)\n",
    "\n",
    "generate_report_button.on_click(on_report_button_click)"
   ]
  },
  {
   "cell_type": "markdown",
   "id": "f27e4cd3-9c38-4368-b830-0678987288b9",
   "metadata": {},
   "source": [
    "### Seção 8: Salvar Dados"
   ]
  },
  {
   "cell_type": "code",
   "execution_count": 17,
   "id": "2dd12eff-b13d-47bd-8108-cbca34ca60d9",
   "metadata": {},
   "outputs": [
    {
     "data": {
      "application/vnd.jupyter.widget-view+json": {
       "model_id": "3c72a1de92d34a0fa31ea2f6eb2abb07",
       "version_major": 2,
       "version_minor": 0
      },
      "text/plain": [
       "HBox(children=(Button(description='Salvar Dados de Fã', style=ButtonStyle()), Button(description='Listar Fãs C…"
      ]
     },
     "metadata": {},
     "output_type": "display_data"
    },
    {
     "data": {
      "application/vnd.jupyter.widget-view+json": {
       "model_id": "e22b567a18d84c13a43840bd894e9895",
       "version_major": 2,
       "version_minor": 0
      },
      "text/plain": [
       "Output()"
      ]
     },
     "metadata": {},
     "output_type": "display_data"
    },
    {
     "data": {
      "application/vnd.jupyter.widget-view+json": {
       "model_id": "9f5425f9ebe94ca28ea10304cfc51ef2",
       "version_major": 2,
       "version_minor": 0
      },
      "text/plain": [
       "Output()"
      ]
     },
     "metadata": {},
     "output_type": "display_data"
    }
   ],
   "source": [
    "save_button = widgets.Button(description=\"Salvar Dados de Fã\")\n",
    "save_output = widgets.Output()\n",
    "\n",
    "display(save_button, save_output)\n",
    "\n",
    "def on_save_button_click(b):\n",
    "    with save_output:\n",
    "        clear_output()\n",
    "        \n",
    "        if not name_input.value or not cpf_input.value:\n",
    "            print(\"⚠️ Nome e CPF são obrigatórios para salvar os dados.\")\n",
    "            return\n",
    "            \n",
    "        try:\n",
    "            import json\n",
    "            import os\n",
    "            \n",
    "            # Cria diretório de dados se não existir\n",
    "            os.makedirs(\"fan_data\", exist_ok=True)\n",
    "            \n",
    "            # Cria um dicionário com os dados do fã\n",
    "            fan_data = {\n",
    "                \"name\": name_input.value,\n",
    "                \"address\": address_input.value,\n",
    "                \"cpf\": cpf_input.value,\n",
    "                \"interests\": interests_input.value,\n",
    "                \"social_media\": social_input.value,\n",
    "                \"profile_link\": profile_link_input.value,\n",
    "                \"document_provided\": document_content is not None,\n",
    "                \"selfie_provided\": selfie_content is not None,\n",
    "                \"timestamp\": str(datetime.datetime.now())\n",
    "            }\n",
    "            \n",
    "            # Salva os dados em um arquivo JSON\n",
    "            filename = f\"fan_data/fan_{cpf_input.value.replace('.', '').replace('-', '')}.json\"\n",
    "            with open(filename, \"w\") as f:\n",
    "                json.dump(fan_data, f, indent=4)\n",
    "                \n",
    "            print(f\"✅ Dados do fã {name_input.value} salvos com sucesso!\")\n",
    "            \n",
    "        except Exception as e:\n",
    "            print(f\"❌ Erro ao salvar dados: {e}\")\n",
    "            \n",
    "save_button.on_click(on_save_button_click)"
   ]
  },
  {
   "cell_type": "markdown",
   "id": "8cc09d24-d6b2-44be-a2a1-0a7bba33c9f8",
   "metadata": {},
   "source": [
    "## Instruções de Uso\n",
    "\n",
    "1. **Dados Pessoais**: Insira seu nome, endereço e CPF nos campos fornecidos. O sistema validará automaticamente o CPF.\n",
    "\n",
    "2. **Interesses**: Descreva seus interesses em esports, como jogos favoritos (CS2, League of Legends), times (ex: FURIA), eventos e compras relacionadas. Separe múltiplos interesses com vírgulas.\n",
    "\n",
    "3. **Upload de Documento**: Faça upload de uma imagem de um documento de identificação com foto. A IA detectará se há um rosto na imagem.\n",
    "\n",
    "4. **Redes Sociais**: Insira seus perfis de redes sociais (ex: @usuario_twitter, @usuario_instagram). Separe múltiplos perfis com vírgulas. O sistema simulará a leitura de interações relacionadas a esports.\n",
    "\n",
    "5. **Links de Perfis**: Insira links para seus perfis em sites de esports (Steam, FACEIT, etc). Separe múltiplos links com vírgulas. A IA verificará se o conteúdo é relevante com base nos seus interesses.\n",
    "\n",
    "6. **Verificação de Identidade**: Faça upload de uma selfie e clique em \"Verificar Identidade\" para comparar seu rosto com o documento fornecido. A verificação mostrará se as imagens correspondem à mesma pessoa.\n",
    "\n",
    "7. **Relatório do Fã**: Após preencher os dados necessários, clique em \"Gerar Relatório do Fã\" para visualizar uma análise completa do seu perfil, incluindo nível de engajamento e benefícios disponíveis.\n",
    "\n",
    "8. **Salvar Dados**: Para armazenar suas informações no sistema, clique em \"Salvar Dados de Fã\". Os dados serão salvos em formato JSON para uso futuro."
   ]
  },
  {
   "cell_type": "code",
   "execution_count": null,
   "id": "09af32c1-6c5c-4085-9fb7-c0aeff5cf050",
   "metadata": {},
   "outputs": [],
   "source": []
  }
 ],
 "metadata": {
  "kernelspec": {
   "display_name": "Python 3 (ipykernel)",
   "language": "python",
   "name": "python3"
  },
  "language_info": {
   "codemirror_mode": {
    "name": "ipython",
    "version": 3
   },
   "file_extension": ".py",
   "mimetype": "text/x-python",
   "name": "python",
   "nbconvert_exporter": "python",
   "pygments_lexer": "ipython3",
   "version": "3.13.2"
  }
 },
 "nbformat": 4,
 "nbformat_minor": 5
}
